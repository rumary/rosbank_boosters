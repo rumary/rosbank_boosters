{
 "cells": [
  {
   "cell_type": "code",
   "execution_count": 483,
   "metadata": {},
   "outputs": [],
   "source": [
    "## на 2/01 - лучшее решение\n",
    "## cb+lgb - итог 0.044480 - место 44\n",
    "## submit 13 - хорошо зажег признак id"
   ]
  },
  {
   "cell_type": "code",
   "execution_count": 434,
   "metadata": {},
   "outputs": [],
   "source": [
    "import pandas as pd\n",
    "import numpy as np\n",
    "from math import sin, cos, sqrt, atan2, radians\n",
    "from tqdm import tqdm\n",
    "from sklearn.neighbors import KNeighborsClassifier\n",
    "from sklearn.metrics import mean_squared_error\n",
    "from sklearn.model_selection import train_test_split\n",
    "from sklearn.model_selection import GridSearchCV"
   ]
  },
  {
   "cell_type": "code",
   "execution_count": 435,
   "metadata": {},
   "outputs": [],
   "source": [
    "# magic command to display matplotlib plots inline within the ipython notebook\n",
    "%matplotlib inline\n",
    "\n",
    "# import necessary modules\n",
    "import pandas as pd, numpy as np, matplotlib.pyplot as plt, time\n",
    "from sklearn.cluster import DBSCAN\n",
    "from sklearn import metrics\n",
    "from geopy.distance import great_circle\n",
    "from shapely.geometry import MultiPoint"
   ]
  },
  {
   "cell_type": "code",
   "execution_count": 436,
   "metadata": {},
   "outputs": [],
   "source": [
    "import catboost as cb"
   ]
  },
  {
   "cell_type": "code",
   "execution_count": 437,
   "metadata": {},
   "outputs": [],
   "source": [
    "def rmse(y_true, y_pred):\n",
    "    return sqrt(mean_squared_error(y_true, y_pred))"
   ]
  },
  {
   "cell_type": "code",
   "execution_count": 438,
   "metadata": {},
   "outputs": [],
   "source": [
    "X = pd.read_csv('X_without_nulls.csv')"
   ]
  },
  {
   "cell_type": "code",
   "execution_count": 439,
   "metadata": {},
   "outputs": [
    {
     "data": {
      "text/html": [
       "<div>\n",
       "<style scoped>\n",
       "    .dataframe tbody tr th:only-of-type {\n",
       "        vertical-align: middle;\n",
       "    }\n",
       "\n",
       "    .dataframe tbody tr th {\n",
       "        vertical-align: top;\n",
       "    }\n",
       "\n",
       "    .dataframe thead th {\n",
       "        text-align: right;\n",
       "    }\n",
       "</style>\n",
       "<table border=\"1\" class=\"dataframe\">\n",
       "  <thead>\n",
       "    <tr style=\"text-align: right;\">\n",
       "      <th></th>\n",
       "      <th>Unnamed: 0</th>\n",
       "      <th>address</th>\n",
       "      <th>address_rus</th>\n",
       "      <th>atm_group</th>\n",
       "      <th>id</th>\n",
       "      <th>isTrain</th>\n",
       "      <th>lat</th>\n",
       "      <th>long</th>\n",
       "      <th>target</th>\n",
       "    </tr>\n",
       "  </thead>\n",
       "  <tbody>\n",
       "    <tr>\n",
       "      <th>0</th>\n",
       "      <td>0</td>\n",
       "      <td>EMELYANOVA,34          Y-SAKHALINSK</td>\n",
       "      <td>улица А.О. Емельянова, 34, Южно-Сахалинск, Сах...</td>\n",
       "      <td>32.0</td>\n",
       "      <td>8526.0</td>\n",
       "      <td>True</td>\n",
       "      <td>46.940995</td>\n",
       "      <td>142.738319</td>\n",
       "      <td>0.01150</td>\n",
       "    </tr>\n",
       "    <tr>\n",
       "      <th>1</th>\n",
       "      <td>1</td>\n",
       "      <td>KOMSOMOLSKAYA,259B     Y.SAKHALINSK</td>\n",
       "      <td>Комсомольская улица, 259, Южно-Сахалинск, Саха...</td>\n",
       "      <td>32.0</td>\n",
       "      <td>8532.0</td>\n",
       "      <td>True</td>\n",
       "      <td>46.937353</td>\n",
       "      <td>142.753348</td>\n",
       "      <td>0.02971</td>\n",
       "    </tr>\n",
       "  </tbody>\n",
       "</table>\n",
       "</div>"
      ],
      "text/plain": [
       "   Unnamed: 0                                 address  \\\n",
       "0           0  EMELYANOVA,34          Y-SAKHALINSK      \n",
       "1           1  KOMSOMOLSKAYA,259B     Y.SAKHALINSK      \n",
       "\n",
       "                                         address_rus  atm_group      id  \\\n",
       "0  улица А.О. Емельянова, 34, Южно-Сахалинск, Сах...       32.0  8526.0   \n",
       "1  Комсомольская улица, 259, Южно-Сахалинск, Саха...       32.0  8532.0   \n",
       "\n",
       "   isTrain        lat        long   target  \n",
       "0     True  46.940995  142.738319  0.01150  \n",
       "1     True  46.937353  142.753348  0.02971  "
      ]
     },
     "execution_count": 439,
     "metadata": {},
     "output_type": "execute_result"
    }
   ],
   "source": [
    "X.head(2)"
   ]
  },
  {
   "cell_type": "markdown",
   "metadata": {},
   "source": [
    "# Количество банкоматов стоящих по одному адресу"
   ]
  },
  {
   "cell_type": "code",
   "execution_count": 440,
   "metadata": {},
   "outputs": [
    {
     "data": {
      "text/html": [
       "<div>\n",
       "<style scoped>\n",
       "    .dataframe tbody tr th:only-of-type {\n",
       "        vertical-align: middle;\n",
       "    }\n",
       "\n",
       "    .dataframe tbody tr th {\n",
       "        vertical-align: top;\n",
       "    }\n",
       "\n",
       "    .dataframe thead th {\n",
       "        text-align: right;\n",
       "    }\n",
       "</style>\n",
       "<table border=\"1\" class=\"dataframe\">\n",
       "  <thead>\n",
       "    <tr style=\"text-align: right;\">\n",
       "      <th></th>\n",
       "      <th>Unnamed: 0</th>\n",
       "      <th>address</th>\n",
       "      <th>address_rus</th>\n",
       "      <th>atm_group</th>\n",
       "      <th>id</th>\n",
       "      <th>isTrain</th>\n",
       "      <th>lat</th>\n",
       "      <th>long</th>\n",
       "      <th>target</th>\n",
       "      <th>count</th>\n",
       "    </tr>\n",
       "  </thead>\n",
       "  <tbody>\n",
       "    <tr>\n",
       "      <th>0</th>\n",
       "      <td>0</td>\n",
       "      <td>EMELYANOVA,34          Y-SAKHALINSK</td>\n",
       "      <td>улица А.О. Емельянова, 34, Южно-Сахалинск, Сах...</td>\n",
       "      <td>32.0</td>\n",
       "      <td>8526.0</td>\n",
       "      <td>True</td>\n",
       "      <td>46.940995</td>\n",
       "      <td>142.738319</td>\n",
       "      <td>0.011500</td>\n",
       "      <td>1.0</td>\n",
       "    </tr>\n",
       "    <tr>\n",
       "      <th>1</th>\n",
       "      <td>1</td>\n",
       "      <td>KOMSOMOLSKAYA,259B     Y.SAKHALINSK</td>\n",
       "      <td>Комсомольская улица, 259, Южно-Сахалинск, Саха...</td>\n",
       "      <td>32.0</td>\n",
       "      <td>8532.0</td>\n",
       "      <td>True</td>\n",
       "      <td>46.937353</td>\n",
       "      <td>142.753348</td>\n",
       "      <td>0.029710</td>\n",
       "      <td>1.0</td>\n",
       "    </tr>\n",
       "    <tr>\n",
       "      <th>2</th>\n",
       "      <td>2</td>\n",
       "      <td>KOMMUN. PR., 32        YUZHNO SAKHAL</td>\n",
       "      <td>Коммунистический проспект, Южно-Сахалинск, Сах...</td>\n",
       "      <td>32.0</td>\n",
       "      <td>8533.0</td>\n",
       "      <td>True</td>\n",
       "      <td>46.959413</td>\n",
       "      <td>142.741113</td>\n",
       "      <td>0.009540</td>\n",
       "      <td>1.0</td>\n",
       "    </tr>\n",
       "    <tr>\n",
       "      <th>3</th>\n",
       "      <td>3</td>\n",
       "      <td>LENINGRADSKIY PR.,76A  MOSCOW</td>\n",
       "      <td>Ленинградский проспект, 76А, Москва, Россия, 1...</td>\n",
       "      <td>32.0</td>\n",
       "      <td>8684.0</td>\n",
       "      <td>True</td>\n",
       "      <td>55.805827</td>\n",
       "      <td>37.515146</td>\n",
       "      <td>-0.094035</td>\n",
       "      <td>1.0</td>\n",
       "    </tr>\n",
       "    <tr>\n",
       "      <th>4</th>\n",
       "      <td>4</td>\n",
       "      <td>GVARDEYSKAYA PL., 2    NORILSK</td>\n",
       "      <td>Гвардейская площадь, 2, Норильск, Красноярский...</td>\n",
       "      <td>32.0</td>\n",
       "      <td>37.0</td>\n",
       "      <td>True</td>\n",
       "      <td>69.343541</td>\n",
       "      <td>88.211228</td>\n",
       "      <td>0.079277</td>\n",
       "      <td>1.0</td>\n",
       "    </tr>\n",
       "  </tbody>\n",
       "</table>\n",
       "</div>"
      ],
      "text/plain": [
       "   Unnamed: 0                                 address  \\\n",
       "0           0  EMELYANOVA,34          Y-SAKHALINSK      \n",
       "1           1  KOMSOMOLSKAYA,259B     Y.SAKHALINSK      \n",
       "2           2  KOMMUN. PR., 32        YUZHNO SAKHAL     \n",
       "3           3  LENINGRADSKIY PR.,76A  MOSCOW            \n",
       "4           4  GVARDEYSKAYA PL., 2    NORILSK           \n",
       "\n",
       "                                         address_rus  atm_group      id  \\\n",
       "0  улица А.О. Емельянова, 34, Южно-Сахалинск, Сах...       32.0  8526.0   \n",
       "1  Комсомольская улица, 259, Южно-Сахалинск, Саха...       32.0  8532.0   \n",
       "2  Коммунистический проспект, Южно-Сахалинск, Сах...       32.0  8533.0   \n",
       "3  Ленинградский проспект, 76А, Москва, Россия, 1...       32.0  8684.0   \n",
       "4  Гвардейская площадь, 2, Норильск, Красноярский...       32.0    37.0   \n",
       "\n",
       "   isTrain        lat        long    target  count  \n",
       "0     True  46.940995  142.738319  0.011500    1.0  \n",
       "1     True  46.937353  142.753348  0.029710    1.0  \n",
       "2     True  46.959413  142.741113  0.009540    1.0  \n",
       "3     True  55.805827   37.515146 -0.094035    1.0  \n",
       "4     True  69.343541   88.211228  0.079277    1.0  "
      ]
     },
     "execution_count": 440,
     "metadata": {},
     "output_type": "execute_result"
    }
   ],
   "source": [
    "counts = X.groupby(['lat','long'])['id'].count().reset_index().rename(columns={'id':'count'})\n",
    "X = pd.merge(X, counts, how='left', on=['lat','long'])\n",
    "X.head()"
   ]
  },
  {
   "cell_type": "markdown",
   "metadata": {},
   "source": [
    "# Город размещения"
   ]
  },
  {
   "cell_type": "code",
   "execution_count": 441,
   "metadata": {},
   "outputs": [
    {
     "data": {
      "text/html": [
       "<div>\n",
       "<style scoped>\n",
       "    .dataframe tbody tr th:only-of-type {\n",
       "        vertical-align: middle;\n",
       "    }\n",
       "\n",
       "    .dataframe tbody tr th {\n",
       "        vertical-align: top;\n",
       "    }\n",
       "\n",
       "    .dataframe thead th {\n",
       "        text-align: right;\n",
       "    }\n",
       "</style>\n",
       "<table border=\"1\" class=\"dataframe\">\n",
       "  <thead>\n",
       "    <tr style=\"text-align: right;\">\n",
       "      <th></th>\n",
       "      <th>Unnamed: 0</th>\n",
       "      <th>address</th>\n",
       "      <th>address_rus</th>\n",
       "      <th>atm_group</th>\n",
       "      <th>id</th>\n",
       "      <th>isTrain</th>\n",
       "      <th>lat</th>\n",
       "      <th>long</th>\n",
       "      <th>target</th>\n",
       "      <th>count</th>\n",
       "      <th>city</th>\n",
       "    </tr>\n",
       "  </thead>\n",
       "  <tbody>\n",
       "    <tr>\n",
       "      <th>0</th>\n",
       "      <td>0</td>\n",
       "      <td>EMELYANOVA,34          Y-SAKHALINSK</td>\n",
       "      <td>улица А.О. Емельянова, 34, Южно-Сахалинск, Сах...</td>\n",
       "      <td>32.0</td>\n",
       "      <td>8526.0</td>\n",
       "      <td>True</td>\n",
       "      <td>46.940995</td>\n",
       "      <td>142.738319</td>\n",
       "      <td>0.011500</td>\n",
       "      <td>1.0</td>\n",
       "      <td>5272.0</td>\n",
       "    </tr>\n",
       "    <tr>\n",
       "      <th>1</th>\n",
       "      <td>1</td>\n",
       "      <td>KOMSOMOLSKAYA,259B     Y.SAKHALINSK</td>\n",
       "      <td>Комсомольская улица, 259, Южно-Сахалинск, Саха...</td>\n",
       "      <td>32.0</td>\n",
       "      <td>8532.0</td>\n",
       "      <td>True</td>\n",
       "      <td>46.937353</td>\n",
       "      <td>142.753348</td>\n",
       "      <td>0.029710</td>\n",
       "      <td>1.0</td>\n",
       "      <td>5272.0</td>\n",
       "    </tr>\n",
       "    <tr>\n",
       "      <th>2</th>\n",
       "      <td>2</td>\n",
       "      <td>KOMMUN. PR., 32        YUZHNO SAKHAL</td>\n",
       "      <td>Коммунистический проспект, Южно-Сахалинск, Сах...</td>\n",
       "      <td>32.0</td>\n",
       "      <td>8533.0</td>\n",
       "      <td>True</td>\n",
       "      <td>46.959413</td>\n",
       "      <td>142.741113</td>\n",
       "      <td>0.009540</td>\n",
       "      <td>1.0</td>\n",
       "      <td>6926.5</td>\n",
       "    </tr>\n",
       "    <tr>\n",
       "      <th>3</th>\n",
       "      <td>3</td>\n",
       "      <td>LENINGRADSKIY PR.,76A  MOSCOW</td>\n",
       "      <td>Ленинградский проспект, 76А, Москва, Россия, 1...</td>\n",
       "      <td>32.0</td>\n",
       "      <td>8684.0</td>\n",
       "      <td>True</td>\n",
       "      <td>55.805827</td>\n",
       "      <td>37.515146</td>\n",
       "      <td>-0.094035</td>\n",
       "      <td>1.0</td>\n",
       "      <td>2212.5</td>\n",
       "    </tr>\n",
       "    <tr>\n",
       "      <th>4</th>\n",
       "      <td>4</td>\n",
       "      <td>GVARDEYSKAYA PL., 2    NORILSK</td>\n",
       "      <td>Гвардейская площадь, 2, Норильск, Красноярский...</td>\n",
       "      <td>32.0</td>\n",
       "      <td>37.0</td>\n",
       "      <td>True</td>\n",
       "      <td>69.343541</td>\n",
       "      <td>88.211228</td>\n",
       "      <td>0.079277</td>\n",
       "      <td>1.0</td>\n",
       "      <td>3152.5</td>\n",
       "    </tr>\n",
       "  </tbody>\n",
       "</table>\n",
       "</div>"
      ],
      "text/plain": [
       "   Unnamed: 0                                 address  \\\n",
       "0           0  EMELYANOVA,34          Y-SAKHALINSK      \n",
       "1           1  KOMSOMOLSKAYA,259B     Y.SAKHALINSK      \n",
       "2           2  KOMMUN. PR., 32        YUZHNO SAKHAL     \n",
       "3           3  LENINGRADSKIY PR.,76A  MOSCOW            \n",
       "4           4  GVARDEYSKAYA PL., 2    NORILSK           \n",
       "\n",
       "                                         address_rus  atm_group      id  \\\n",
       "0  улица А.О. Емельянова, 34, Южно-Сахалинск, Сах...       32.0  8526.0   \n",
       "1  Комсомольская улица, 259, Южно-Сахалинск, Саха...       32.0  8532.0   \n",
       "2  Коммунистический проспект, Южно-Сахалинск, Сах...       32.0  8533.0   \n",
       "3  Ленинградский проспект, 76А, Москва, Россия, 1...       32.0  8684.0   \n",
       "4  Гвардейская площадь, 2, Норильск, Красноярский...       32.0    37.0   \n",
       "\n",
       "   isTrain        lat        long    target  count    city  \n",
       "0     True  46.940995  142.738319  0.011500    1.0  5272.0  \n",
       "1     True  46.937353  142.753348  0.029710    1.0  5272.0  \n",
       "2     True  46.959413  142.741113  0.009540    1.0  6926.5  \n",
       "3     True  55.805827   37.515146 -0.094035    1.0  2212.5  \n",
       "4     True  69.343541   88.211228  0.079277    1.0  3152.5  "
      ]
     },
     "execution_count": 441,
     "metadata": {},
     "output_type": "execute_result"
    }
   ],
   "source": [
    "X['city'] = X[~X.address_rus.isnull()].address_rus.apply(lambda x: x.split(',')[2])\n",
    "rare_cities = X.city.value_counts()[(X.city.value_counts() < 20) ==True].index\n",
    "X.city = X.city.apply(lambda x: 'RARE' if x in rare_cities else x)\n",
    "X.city= X.city.rank().fillna(-1)\n",
    "X.head()"
   ]
  },
  {
   "cell_type": "code",
   "execution_count": 442,
   "metadata": {},
   "outputs": [
    {
     "data": {
      "text/plain": [
       "(8765, 11)"
      ]
     },
     "execution_count": 442,
     "metadata": {},
     "output_type": "execute_result"
    }
   ],
   "source": [
    "X.shape"
   ]
  },
  {
   "cell_type": "markdown",
   "metadata": {},
   "source": [
    "# Расстояния до ближайших банкоматов"
   ]
  },
  {
   "cell_type": "code",
   "execution_count": 443,
   "metadata": {},
   "outputs": [],
   "source": [
    "R = 6373.0 # радиус земли в километрах\n",
    "\n",
    "def distance(x,y):\n",
    "    \"\"\"\n",
    "    Параметры\n",
    "    ----------\n",
    "    x : tuple, широта и долгота первой геокоординаты \n",
    "    y : tuple, широта и долгота второй геокоординаты \n",
    "    \n",
    "    Результат\n",
    "    ----------\n",
    "    result : дистанция в километрах между двумя геокоординатами\n",
    "    \"\"\"\n",
    "    lat_a, long_a, lat_b, long_b = map(radians, [x[0],x[1],y[0],y[1]])    \n",
    "    dlon = long_b - long_a\n",
    "    dlat = lat_b - lat_a\n",
    "    a = sin(dlat/2)**2 + cos(lat_a) * cos(lat_b) * sin(dlon/2)**2\n",
    "    c = 2 * atan2(sqrt(a), sqrt(1 - a))\n",
    "    return R * c"
   ]
  },
  {
   "cell_type": "code",
   "execution_count": 444,
   "metadata": {},
   "outputs": [],
   "source": [
    "knc = KNeighborsClassifier(metric=distance)"
   ]
  },
  {
   "cell_type": "code",
   "execution_count": 445,
   "metadata": {},
   "outputs": [],
   "source": [
    "dots = X[['lat','long']].dropna()"
   ]
  },
  {
   "cell_type": "code",
   "execution_count": 446,
   "metadata": {},
   "outputs": [
    {
     "data": {
      "text/html": [
       "<div>\n",
       "<style scoped>\n",
       "    .dataframe tbody tr th:only-of-type {\n",
       "        vertical-align: middle;\n",
       "    }\n",
       "\n",
       "    .dataframe tbody tr th {\n",
       "        vertical-align: top;\n",
       "    }\n",
       "\n",
       "    .dataframe thead th {\n",
       "        text-align: right;\n",
       "    }\n",
       "</style>\n",
       "<table border=\"1\" class=\"dataframe\">\n",
       "  <thead>\n",
       "    <tr style=\"text-align: right;\">\n",
       "      <th></th>\n",
       "      <th>lat</th>\n",
       "      <th>long</th>\n",
       "    </tr>\n",
       "  </thead>\n",
       "  <tbody>\n",
       "    <tr>\n",
       "      <th>0</th>\n",
       "      <td>46.940995</td>\n",
       "      <td>142.738319</td>\n",
       "    </tr>\n",
       "    <tr>\n",
       "      <th>1</th>\n",
       "      <td>46.937353</td>\n",
       "      <td>142.753348</td>\n",
       "    </tr>\n",
       "    <tr>\n",
       "      <th>2</th>\n",
       "      <td>46.959413</td>\n",
       "      <td>142.741113</td>\n",
       "    </tr>\n",
       "    <tr>\n",
       "      <th>3</th>\n",
       "      <td>55.805827</td>\n",
       "      <td>37.515146</td>\n",
       "    </tr>\n",
       "    <tr>\n",
       "      <th>4</th>\n",
       "      <td>69.343541</td>\n",
       "      <td>88.211228</td>\n",
       "    </tr>\n",
       "  </tbody>\n",
       "</table>\n",
       "</div>"
      ],
      "text/plain": [
       "         lat        long\n",
       "0  46.940995  142.738319\n",
       "1  46.937353  142.753348\n",
       "2  46.959413  142.741113\n",
       "3  55.805827   37.515146\n",
       "4  69.343541   88.211228"
      ]
     },
     "execution_count": 446,
     "metadata": {},
     "output_type": "execute_result"
    }
   ],
   "source": [
    "dots.head()"
   ]
  },
  {
   "cell_type": "code",
   "execution_count": 447,
   "metadata": {},
   "outputs": [
    {
     "data": {
      "text/plain": [
       "KNeighborsClassifier(algorithm='auto', leaf_size=30,\n",
       "           metric=<function distance at 0x114795050>, metric_params=None,\n",
       "           n_jobs=None, n_neighbors=5, p=2, weights='uniform')"
      ]
     },
     "execution_count": 447,
     "metadata": {},
     "output_type": "execute_result"
    }
   ],
   "source": [
    "knc.fit(X=dots , y=np.ones(dots.shape[0]))"
   ]
  },
  {
   "cell_type": "code",
   "execution_count": 448,
   "metadata": {},
   "outputs": [],
   "source": [
    "distances, indexes = knc.kneighbors(X=dots,n_neighbors=6,)"
   ]
  },
  {
   "cell_type": "code",
   "execution_count": 449,
   "metadata": {},
   "outputs": [],
   "source": [
    "for i in range(1,4):\n",
    "    dots['distance_%s'%i] = distances[:,i]\n",
    "    dots['indexes_%s'%i] = indexes[:,i]"
   ]
  },
  {
   "cell_type": "code",
   "execution_count": 450,
   "metadata": {},
   "outputs": [],
   "source": [
    "dots['mean'] = dots.iloc[:,dots.columns.str.contains('distance')].mean(axis=1)"
   ]
  },
  {
   "cell_type": "code",
   "execution_count": 451,
   "metadata": {},
   "outputs": [],
   "source": [
    "dots = dots.drop(columns = ['lat','long'])"
   ]
  },
  {
   "cell_type": "code",
   "execution_count": 452,
   "metadata": {},
   "outputs": [],
   "source": [
    "X = pd.concat([X,dots], axis=1)"
   ]
  },
  {
   "cell_type": "code",
   "execution_count": 453,
   "metadata": {},
   "outputs": [
    {
     "data": {
      "text/plain": [
       "Index([u'Unnamed: 0', u'address', u'address_rus', u'atm_group', u'id',\n",
       "       u'isTrain', u'lat', u'long', u'target', u'count', u'city',\n",
       "       u'distance_1', u'indexes_1', u'distance_2', u'indexes_2', u'distance_3',\n",
       "       u'indexes_3', u'mean'],\n",
       "      dtype='object')"
      ]
     },
     "execution_count": 453,
     "metadata": {},
     "output_type": "execute_result"
    }
   ],
   "source": [
    "X.columns"
   ]
  },
  {
   "cell_type": "code",
   "execution_count": 454,
   "metadata": {},
   "outputs": [
    {
     "data": {
      "text/html": [
       "<div>\n",
       "<style scoped>\n",
       "    .dataframe tbody tr th:only-of-type {\n",
       "        vertical-align: middle;\n",
       "    }\n",
       "\n",
       "    .dataframe tbody tr th {\n",
       "        vertical-align: top;\n",
       "    }\n",
       "\n",
       "    .dataframe thead th {\n",
       "        text-align: right;\n",
       "    }\n",
       "</style>\n",
       "<table border=\"1\" class=\"dataframe\">\n",
       "  <thead>\n",
       "    <tr style=\"text-align: right;\">\n",
       "      <th></th>\n",
       "      <th>Unnamed: 0</th>\n",
       "      <th>address</th>\n",
       "      <th>address_rus</th>\n",
       "      <th>atm_group</th>\n",
       "      <th>id</th>\n",
       "      <th>isTrain</th>\n",
       "      <th>lat</th>\n",
       "      <th>long</th>\n",
       "      <th>target</th>\n",
       "      <th>count</th>\n",
       "      <th>city</th>\n",
       "      <th>distance_1</th>\n",
       "      <th>indexes_1</th>\n",
       "      <th>distance_2</th>\n",
       "      <th>indexes_2</th>\n",
       "      <th>distance_3</th>\n",
       "      <th>indexes_3</th>\n",
       "      <th>mean</th>\n",
       "    </tr>\n",
       "  </thead>\n",
       "  <tbody>\n",
       "    <tr>\n",
       "      <th>0</th>\n",
       "      <td>0</td>\n",
       "      <td>EMELYANOVA,34          Y-SAKHALINSK</td>\n",
       "      <td>улица А.О. Емельянова, 34, Южно-Сахалинск, Сах...</td>\n",
       "      <td>32.0</td>\n",
       "      <td>8526.0</td>\n",
       "      <td>True</td>\n",
       "      <td>46.940995</td>\n",
       "      <td>142.738319</td>\n",
       "      <td>0.011500</td>\n",
       "      <td>1.0</td>\n",
       "      <td>5272.0</td>\n",
       "      <td>0.171318</td>\n",
       "      <td>8702.0</td>\n",
       "      <td>0.406053</td>\n",
       "      <td>6072.0</td>\n",
       "      <td>0.447444</td>\n",
       "      <td>3756.0</td>\n",
       "      <td>0.341605</td>\n",
       "    </tr>\n",
       "    <tr>\n",
       "      <th>1</th>\n",
       "      <td>1</td>\n",
       "      <td>KOMSOMOLSKAYA,259B     Y.SAKHALINSK</td>\n",
       "      <td>Комсомольская улица, 259, Южно-Сахалинск, Саха...</td>\n",
       "      <td>32.0</td>\n",
       "      <td>8532.0</td>\n",
       "      <td>True</td>\n",
       "      <td>46.937353</td>\n",
       "      <td>142.753348</td>\n",
       "      <td>0.029710</td>\n",
       "      <td>1.0</td>\n",
       "      <td>5272.0</td>\n",
       "      <td>0.243277</td>\n",
       "      <td>1714.0</td>\n",
       "      <td>0.649501</td>\n",
       "      <td>434.0</td>\n",
       "      <td>0.720783</td>\n",
       "      <td>8287.0</td>\n",
       "      <td>0.537854</td>\n",
       "    </tr>\n",
       "    <tr>\n",
       "      <th>2</th>\n",
       "      <td>2</td>\n",
       "      <td>KOMMUN. PR., 32        YUZHNO SAKHAL</td>\n",
       "      <td>Коммунистический проспект, Южно-Сахалинск, Сах...</td>\n",
       "      <td>32.0</td>\n",
       "      <td>8533.0</td>\n",
       "      <td>True</td>\n",
       "      <td>46.959413</td>\n",
       "      <td>142.741113</td>\n",
       "      <td>0.009540</td>\n",
       "      <td>1.0</td>\n",
       "      <td>6926.5</td>\n",
       "      <td>0.063770</td>\n",
       "      <td>3021.0</td>\n",
       "      <td>0.221691</td>\n",
       "      <td>4230.0</td>\n",
       "      <td>0.221691</td>\n",
       "      <td>2516.0</td>\n",
       "      <td>0.169050</td>\n",
       "    </tr>\n",
       "    <tr>\n",
       "      <th>3</th>\n",
       "      <td>3</td>\n",
       "      <td>LENINGRADSKIY PR.,76A  MOSCOW</td>\n",
       "      <td>Ленинградский проспект, 76А, Москва, Россия, 1...</td>\n",
       "      <td>32.0</td>\n",
       "      <td>8684.0</td>\n",
       "      <td>True</td>\n",
       "      <td>55.805827</td>\n",
       "      <td>37.515146</td>\n",
       "      <td>-0.094035</td>\n",
       "      <td>1.0</td>\n",
       "      <td>2212.5</td>\n",
       "      <td>0.371956</td>\n",
       "      <td>6485.0</td>\n",
       "      <td>0.642700</td>\n",
       "      <td>7886.0</td>\n",
       "      <td>0.701862</td>\n",
       "      <td>7200.0</td>\n",
       "      <td>0.572172</td>\n",
       "    </tr>\n",
       "    <tr>\n",
       "      <th>4</th>\n",
       "      <td>4</td>\n",
       "      <td>GVARDEYSKAYA PL., 2    NORILSK</td>\n",
       "      <td>Гвардейская площадь, 2, Норильск, Красноярский...</td>\n",
       "      <td>32.0</td>\n",
       "      <td>37.0</td>\n",
       "      <td>True</td>\n",
       "      <td>69.343541</td>\n",
       "      <td>88.211228</td>\n",
       "      <td>0.079277</td>\n",
       "      <td>1.0</td>\n",
       "      <td>3152.5</td>\n",
       "      <td>0.199516</td>\n",
       "      <td>4801.0</td>\n",
       "      <td>0.367687</td>\n",
       "      <td>3593.0</td>\n",
       "      <td>0.394887</td>\n",
       "      <td>3565.0</td>\n",
       "      <td>0.320697</td>\n",
       "    </tr>\n",
       "  </tbody>\n",
       "</table>\n",
       "</div>"
      ],
      "text/plain": [
       "   Unnamed: 0                                 address  \\\n",
       "0           0  EMELYANOVA,34          Y-SAKHALINSK      \n",
       "1           1  KOMSOMOLSKAYA,259B     Y.SAKHALINSK      \n",
       "2           2  KOMMUN. PR., 32        YUZHNO SAKHAL     \n",
       "3           3  LENINGRADSKIY PR.,76A  MOSCOW            \n",
       "4           4  GVARDEYSKAYA PL., 2    NORILSK           \n",
       "\n",
       "                                         address_rus  atm_group      id  \\\n",
       "0  улица А.О. Емельянова, 34, Южно-Сахалинск, Сах...       32.0  8526.0   \n",
       "1  Комсомольская улица, 259, Южно-Сахалинск, Саха...       32.0  8532.0   \n",
       "2  Коммунистический проспект, Южно-Сахалинск, Сах...       32.0  8533.0   \n",
       "3  Ленинградский проспект, 76А, Москва, Россия, 1...       32.0  8684.0   \n",
       "4  Гвардейская площадь, 2, Норильск, Красноярский...       32.0    37.0   \n",
       "\n",
       "   isTrain        lat        long    target  count    city  distance_1  \\\n",
       "0     True  46.940995  142.738319  0.011500    1.0  5272.0    0.171318   \n",
       "1     True  46.937353  142.753348  0.029710    1.0  5272.0    0.243277   \n",
       "2     True  46.959413  142.741113  0.009540    1.0  6926.5    0.063770   \n",
       "3     True  55.805827   37.515146 -0.094035    1.0  2212.5    0.371956   \n",
       "4     True  69.343541   88.211228  0.079277    1.0  3152.5    0.199516   \n",
       "\n",
       "   indexes_1  distance_2  indexes_2  distance_3  indexes_3      mean  \n",
       "0     8702.0    0.406053     6072.0    0.447444     3756.0  0.341605  \n",
       "1     1714.0    0.649501      434.0    0.720783     8287.0  0.537854  \n",
       "2     3021.0    0.221691     4230.0    0.221691     2516.0  0.169050  \n",
       "3     6485.0    0.642700     7886.0    0.701862     7200.0  0.572172  \n",
       "4     4801.0    0.367687     3593.0    0.394887     3565.0  0.320697  "
      ]
     },
     "execution_count": 454,
     "metadata": {},
     "output_type": "execute_result"
    }
   ],
   "source": [
    "X.head()"
   ]
  },
  {
   "cell_type": "markdown",
   "metadata": {},
   "source": [
    "# Количество банкоматов одного провайдера в городе"
   ]
  },
  {
   "cell_type": "code",
   "execution_count": 455,
   "metadata": {},
   "outputs": [],
   "source": [
    "atm_city = pd.DataFrame(X.groupby('city')['atm_group'].value_counts()).rename(columns={'atm_group':'atm_city'}).reset_index()"
   ]
  },
  {
   "cell_type": "code",
   "execution_count": 456,
   "metadata": {},
   "outputs": [],
   "source": [
    "X = pd.merge(X,atm_city,how='left',left_on=['city','atm_group'],right_on=['city','atm_group'])"
   ]
  },
  {
   "cell_type": "markdown",
   "metadata": {},
   "source": [
    "# Численность населения города"
   ]
  },
  {
   "cell_type": "code",
   "execution_count": 457,
   "metadata": {},
   "outputs": [],
   "source": [
    "X['city_name'] = X[~X.address_rus.isnull()].address_rus.apply(lambda x: x.split(',')[2])\n",
    "cities = pd.read_excel('city2.xlsx')\n",
    "cities.city_name = cities.city_name.apply(lambda x: x.encode('utf-8'))\n",
    "X = pd.merge(X, cities, how='left', on='city_name')"
   ]
  },
  {
   "cell_type": "code",
   "execution_count": 458,
   "metadata": {},
   "outputs": [
    {
     "data": {
      "text/plain": [
       "Unnamed: 0        0\n",
       "address           0\n",
       "address_rus     420\n",
       "atm_group         0\n",
       "id                0\n",
       "isTrain           0\n",
       "lat               0\n",
       "long              1\n",
       "target         2504\n",
       "count             1\n",
       "city              0\n",
       "distance_1        1\n",
       "indexes_1         1\n",
       "distance_2        1\n",
       "indexes_2         1\n",
       "distance_3        1\n",
       "indexes_3         1\n",
       "mean              1\n",
       "atm_city          0\n",
       "city_name       420\n",
       "№              2781\n",
       "population     2781\n",
       "dtype: int64"
      ]
     },
     "execution_count": 458,
     "metadata": {},
     "output_type": "execute_result"
    }
   ],
   "source": [
    "X.isnull().sum()"
   ]
  },
  {
   "cell_type": "code",
   "execution_count": 459,
   "metadata": {},
   "outputs": [
    {
     "data": {
      "text/html": [
       "<div>\n",
       "<style scoped>\n",
       "    .dataframe tbody tr th:only-of-type {\n",
       "        vertical-align: middle;\n",
       "    }\n",
       "\n",
       "    .dataframe tbody tr th {\n",
       "        vertical-align: top;\n",
       "    }\n",
       "\n",
       "    .dataframe thead th {\n",
       "        text-align: right;\n",
       "    }\n",
       "</style>\n",
       "<table border=\"1\" class=\"dataframe\">\n",
       "  <thead>\n",
       "    <tr style=\"text-align: right;\">\n",
       "      <th></th>\n",
       "      <th>Unnamed: 0</th>\n",
       "      <th>address</th>\n",
       "      <th>address_rus</th>\n",
       "      <th>atm_group</th>\n",
       "      <th>id</th>\n",
       "      <th>isTrain</th>\n",
       "      <th>lat</th>\n",
       "      <th>long</th>\n",
       "      <th>target</th>\n",
       "      <th>count</th>\n",
       "      <th>...</th>\n",
       "      <th>indexes_1</th>\n",
       "      <th>distance_2</th>\n",
       "      <th>indexes_2</th>\n",
       "      <th>distance_3</th>\n",
       "      <th>indexes_3</th>\n",
       "      <th>mean</th>\n",
       "      <th>atm_city</th>\n",
       "      <th>city_name</th>\n",
       "      <th>№</th>\n",
       "      <th>population</th>\n",
       "    </tr>\n",
       "  </thead>\n",
       "  <tbody>\n",
       "    <tr>\n",
       "      <th>0</th>\n",
       "      <td>0</td>\n",
       "      <td>EMELYANOVA,34          Y-SAKHALINSK</td>\n",
       "      <td>улица А.О. Емельянова, 34, Южно-Сахалинск, Сах...</td>\n",
       "      <td>32.0</td>\n",
       "      <td>8526.0</td>\n",
       "      <td>True</td>\n",
       "      <td>46.940995</td>\n",
       "      <td>142.738319</td>\n",
       "      <td>0.011500</td>\n",
       "      <td>1.0</td>\n",
       "      <td>...</td>\n",
       "      <td>8702.0</td>\n",
       "      <td>0.406053</td>\n",
       "      <td>6072.0</td>\n",
       "      <td>0.447444</td>\n",
       "      <td>3756.0</td>\n",
       "      <td>0.341605</td>\n",
       "      <td>6</td>\n",
       "      <td>Южно-Сахалинск</td>\n",
       "      <td>168.0</td>\n",
       "      <td>194882</td>\n",
       "    </tr>\n",
       "    <tr>\n",
       "      <th>1</th>\n",
       "      <td>1</td>\n",
       "      <td>KOMSOMOLSKAYA,259B     Y.SAKHALINSK</td>\n",
       "      <td>Комсомольская улица, 259, Южно-Сахалинск, Саха...</td>\n",
       "      <td>32.0</td>\n",
       "      <td>8532.0</td>\n",
       "      <td>True</td>\n",
       "      <td>46.937353</td>\n",
       "      <td>142.753348</td>\n",
       "      <td>0.029710</td>\n",
       "      <td>1.0</td>\n",
       "      <td>...</td>\n",
       "      <td>1714.0</td>\n",
       "      <td>0.649501</td>\n",
       "      <td>434.0</td>\n",
       "      <td>0.720783</td>\n",
       "      <td>8287.0</td>\n",
       "      <td>0.537854</td>\n",
       "      <td>6</td>\n",
       "      <td>Южно-Сахалинск</td>\n",
       "      <td>168.0</td>\n",
       "      <td>194882</td>\n",
       "    </tr>\n",
       "    <tr>\n",
       "      <th>2</th>\n",
       "      <td>2</td>\n",
       "      <td>KOMMUN. PR., 32        YUZHNO SAKHAL</td>\n",
       "      <td>Коммунистический проспект, Южно-Сахалинск, Сах...</td>\n",
       "      <td>32.0</td>\n",
       "      <td>8533.0</td>\n",
       "      <td>True</td>\n",
       "      <td>46.959413</td>\n",
       "      <td>142.741113</td>\n",
       "      <td>0.009540</td>\n",
       "      <td>1.0</td>\n",
       "      <td>...</td>\n",
       "      <td>3021.0</td>\n",
       "      <td>0.221691</td>\n",
       "      <td>4230.0</td>\n",
       "      <td>0.221691</td>\n",
       "      <td>2516.0</td>\n",
       "      <td>0.169050</td>\n",
       "      <td>5</td>\n",
       "      <td>Сахалинская область</td>\n",
       "      <td>NaN</td>\n",
       "      <td>0</td>\n",
       "    </tr>\n",
       "    <tr>\n",
       "      <th>3</th>\n",
       "      <td>3</td>\n",
       "      <td>LENINGRADSKIY PR.,76A  MOSCOW</td>\n",
       "      <td>Ленинградский проспект, 76А, Москва, Россия, 1...</td>\n",
       "      <td>32.0</td>\n",
       "      <td>8684.0</td>\n",
       "      <td>True</td>\n",
       "      <td>55.805827</td>\n",
       "      <td>37.515146</td>\n",
       "      <td>-0.094035</td>\n",
       "      <td>1.0</td>\n",
       "      <td>...</td>\n",
       "      <td>6485.0</td>\n",
       "      <td>0.642700</td>\n",
       "      <td>7886.0</td>\n",
       "      <td>0.701862</td>\n",
       "      <td>7200.0</td>\n",
       "      <td>0.572172</td>\n",
       "      <td>19</td>\n",
       "      <td>Москва</td>\n",
       "      <td>75.0</td>\n",
       "      <td>12380664</td>\n",
       "    </tr>\n",
       "    <tr>\n",
       "      <th>4</th>\n",
       "      <td>4</td>\n",
       "      <td>GVARDEYSKAYA PL., 2    NORILSK</td>\n",
       "      <td>Гвардейская площадь, 2, Норильск, Красноярский...</td>\n",
       "      <td>32.0</td>\n",
       "      <td>37.0</td>\n",
       "      <td>True</td>\n",
       "      <td>69.343541</td>\n",
       "      <td>88.211228</td>\n",
       "      <td>0.079277</td>\n",
       "      <td>1.0</td>\n",
       "      <td>...</td>\n",
       "      <td>4801.0</td>\n",
       "      <td>0.367687</td>\n",
       "      <td>3593.0</td>\n",
       "      <td>0.394887</td>\n",
       "      <td>3565.0</td>\n",
       "      <td>0.320697</td>\n",
       "      <td>5</td>\n",
       "      <td>Норильск</td>\n",
       "      <td>100.0</td>\n",
       "      <td>178018</td>\n",
       "    </tr>\n",
       "  </tbody>\n",
       "</table>\n",
       "<p>5 rows × 22 columns</p>\n",
       "</div>"
      ],
      "text/plain": [
       "   Unnamed: 0                                 address  \\\n",
       "0           0  EMELYANOVA,34          Y-SAKHALINSK      \n",
       "1           1  KOMSOMOLSKAYA,259B     Y.SAKHALINSK      \n",
       "2           2  KOMMUN. PR., 32        YUZHNO SAKHAL     \n",
       "3           3  LENINGRADSKIY PR.,76A  MOSCOW            \n",
       "4           4  GVARDEYSKAYA PL., 2    NORILSK           \n",
       "\n",
       "                                         address_rus  atm_group      id  \\\n",
       "0  улица А.О. Емельянова, 34, Южно-Сахалинск, Сах...       32.0  8526.0   \n",
       "1  Комсомольская улица, 259, Южно-Сахалинск, Саха...       32.0  8532.0   \n",
       "2  Коммунистический проспект, Южно-Сахалинск, Сах...       32.0  8533.0   \n",
       "3  Ленинградский проспект, 76А, Москва, Россия, 1...       32.0  8684.0   \n",
       "4  Гвардейская площадь, 2, Норильск, Красноярский...       32.0    37.0   \n",
       "\n",
       "   isTrain        lat        long    target  count    ...      indexes_1  \\\n",
       "0     True  46.940995  142.738319  0.011500    1.0    ...         8702.0   \n",
       "1     True  46.937353  142.753348  0.029710    1.0    ...         1714.0   \n",
       "2     True  46.959413  142.741113  0.009540    1.0    ...         3021.0   \n",
       "3     True  55.805827   37.515146 -0.094035    1.0    ...         6485.0   \n",
       "4     True  69.343541   88.211228  0.079277    1.0    ...         4801.0   \n",
       "\n",
       "   distance_2  indexes_2  distance_3  indexes_3      mean  atm_city  \\\n",
       "0    0.406053     6072.0    0.447444     3756.0  0.341605         6   \n",
       "1    0.649501      434.0    0.720783     8287.0  0.537854         6   \n",
       "2    0.221691     4230.0    0.221691     2516.0  0.169050         5   \n",
       "3    0.642700     7886.0    0.701862     7200.0  0.572172        19   \n",
       "4    0.367687     3593.0    0.394887     3565.0  0.320697         5   \n",
       "\n",
       "              city_name      № population  \n",
       "0        Южно-Сахалинск  168.0     194882  \n",
       "1        Южно-Сахалинск  168.0     194882  \n",
       "2   Сахалинская область    NaN          0  \n",
       "3                Москва   75.0   12380664  \n",
       "4              Норильск  100.0     178018  \n",
       "\n",
       "[5 rows x 22 columns]"
      ]
     },
     "execution_count": 459,
     "metadata": {},
     "output_type": "execute_result"
    }
   ],
   "source": [
    "X.population = X.population.apply(lambda x: str(x).replace(' ', '')).replace('nan', 0).astype(int)\n",
    "X.head()"
   ]
  },
  {
   "cell_type": "markdown",
   "metadata": {},
   "source": [
    "# Model"
   ]
  },
  {
   "cell_type": "code",
   "execution_count": 460,
   "metadata": {},
   "outputs": [],
   "source": [
    "X.long = X.long.fillna(0)\n",
    "X.atm_group = X.atm_group.astype(int)"
   ]
  },
  {
   "cell_type": "code",
   "execution_count": 334,
   "metadata": {},
   "outputs": [],
   "source": [
    "X.lat, X.long = X.lat.astype(int), X.long.astype(int)"
   ]
  },
  {
   "cell_type": "code",
   "execution_count": 461,
   "metadata": {},
   "outputs": [],
   "source": [
    "X_ = X[X.isTrain][['atm_group', 'lat', 'long',  'count', 'distance_1',\n",
    "                    'distance_2',  'distance_3',   'mean', 'population','id']]\n",
    "Y_ = X.loc[X.isTrain, 'target']\n",
    "\n",
    "X_test = X[~X.isTrain][['atm_group', 'lat', 'long',  'count', 'distance_1',\n",
    "                    'distance_2',  'distance_3',   'mean', 'population','id']]"
   ]
  },
  {
   "cell_type": "code",
   "execution_count": 462,
   "metadata": {},
   "outputs": [],
   "source": [
    "X_train, X_valid, Y_train, Y_valid = train_test_split(X_, Y_, test_size=0.25, random_state=1)"
   ]
  },
  {
   "cell_type": "code",
   "execution_count": 487,
   "metadata": {},
   "outputs": [
    {
     "data": {
      "text/html": [
       "<div>\n",
       "<style scoped>\n",
       "    .dataframe tbody tr th:only-of-type {\n",
       "        vertical-align: middle;\n",
       "    }\n",
       "\n",
       "    .dataframe tbody tr th {\n",
       "        vertical-align: top;\n",
       "    }\n",
       "\n",
       "    .dataframe thead th {\n",
       "        text-align: right;\n",
       "    }\n",
       "</style>\n",
       "<table border=\"1\" class=\"dataframe\">\n",
       "  <thead>\n",
       "    <tr style=\"text-align: right;\">\n",
       "      <th></th>\n",
       "      <th>atm_group</th>\n",
       "      <th>lat</th>\n",
       "      <th>long</th>\n",
       "      <th>count</th>\n",
       "      <th>distance_1</th>\n",
       "      <th>distance_2</th>\n",
       "      <th>distance_3</th>\n",
       "      <th>mean</th>\n",
       "      <th>population</th>\n",
       "      <th>id</th>\n",
       "    </tr>\n",
       "  </thead>\n",
       "  <tbody>\n",
       "    <tr>\n",
       "      <th>0</th>\n",
       "      <td>32</td>\n",
       "      <td>46.940995</td>\n",
       "      <td>142.738319</td>\n",
       "      <td>1.0</td>\n",
       "      <td>0.171318</td>\n",
       "      <td>0.406053</td>\n",
       "      <td>0.447444</td>\n",
       "      <td>0.341605</td>\n",
       "      <td>194882</td>\n",
       "      <td>8526.0</td>\n",
       "    </tr>\n",
       "    <tr>\n",
       "      <th>1</th>\n",
       "      <td>32</td>\n",
       "      <td>46.937353</td>\n",
       "      <td>142.753348</td>\n",
       "      <td>1.0</td>\n",
       "      <td>0.243277</td>\n",
       "      <td>0.649501</td>\n",
       "      <td>0.720783</td>\n",
       "      <td>0.537854</td>\n",
       "      <td>194882</td>\n",
       "      <td>8532.0</td>\n",
       "    </tr>\n",
       "    <tr>\n",
       "      <th>2</th>\n",
       "      <td>32</td>\n",
       "      <td>46.959413</td>\n",
       "      <td>142.741113</td>\n",
       "      <td>1.0</td>\n",
       "      <td>0.063770</td>\n",
       "      <td>0.221691</td>\n",
       "      <td>0.221691</td>\n",
       "      <td>0.169050</td>\n",
       "      <td>0</td>\n",
       "      <td>8533.0</td>\n",
       "    </tr>\n",
       "    <tr>\n",
       "      <th>3</th>\n",
       "      <td>32</td>\n",
       "      <td>55.805827</td>\n",
       "      <td>37.515146</td>\n",
       "      <td>1.0</td>\n",
       "      <td>0.371956</td>\n",
       "      <td>0.642700</td>\n",
       "      <td>0.701862</td>\n",
       "      <td>0.572172</td>\n",
       "      <td>12380664</td>\n",
       "      <td>8684.0</td>\n",
       "    </tr>\n",
       "    <tr>\n",
       "      <th>4</th>\n",
       "      <td>32</td>\n",
       "      <td>69.343541</td>\n",
       "      <td>88.211228</td>\n",
       "      <td>1.0</td>\n",
       "      <td>0.199516</td>\n",
       "      <td>0.367687</td>\n",
       "      <td>0.394887</td>\n",
       "      <td>0.320697</td>\n",
       "      <td>178018</td>\n",
       "      <td>37.0</td>\n",
       "    </tr>\n",
       "  </tbody>\n",
       "</table>\n",
       "</div>"
      ],
      "text/plain": [
       "   atm_group        lat        long  count  distance_1  distance_2  \\\n",
       "0         32  46.940995  142.738319    1.0    0.171318    0.406053   \n",
       "1         32  46.937353  142.753348    1.0    0.243277    0.649501   \n",
       "2         32  46.959413  142.741113    1.0    0.063770    0.221691   \n",
       "3         32  55.805827   37.515146    1.0    0.371956    0.642700   \n",
       "4         32  69.343541   88.211228    1.0    0.199516    0.367687   \n",
       "\n",
       "   distance_3      mean  population      id  \n",
       "0    0.447444  0.341605      194882  8526.0  \n",
       "1    0.720783  0.537854      194882  8532.0  \n",
       "2    0.221691  0.169050           0  8533.0  \n",
       "3    0.701862  0.572172    12380664  8684.0  \n",
       "4    0.394887  0.320697      178018    37.0  "
      ]
     },
     "execution_count": 487,
     "metadata": {},
     "output_type": "execute_result"
    }
   ],
   "source": [
    "X_.head()"
   ]
  },
  {
   "cell_type": "markdown",
   "metadata": {},
   "source": [
    "## catboost"
   ]
  },
  {
   "cell_type": "code",
   "execution_count": 464,
   "metadata": {},
   "outputs": [],
   "source": [
    "categorical = ['atm_group']"
   ]
  },
  {
   "cell_type": "code",
   "execution_count": 465,
   "metadata": {},
   "outputs": [],
   "source": [
    "def column_index(df, query_cols):\n",
    "    cols = df.columns.values\n",
    "    sidx = np.argsort(cols)\n",
    "    return sidx[np.searchsorted(cols,query_cols,sorter=sidx)]\n",
    "categorical_features_pos = column_index(X_train,categorical)"
   ]
  },
  {
   "cell_type": "code",
   "execution_count": 466,
   "metadata": {},
   "outputs": [
    {
     "data": {
      "text/plain": [
       "array([0])"
      ]
     },
     "execution_count": 466,
     "metadata": {},
     "output_type": "execute_result"
    }
   ],
   "source": [
    "categorical_features_pos"
   ]
  },
  {
   "cell_type": "code",
   "execution_count": 467,
   "metadata": {},
   "outputs": [],
   "source": [
    "cb_model = cb.CatBoostRegressor(iterations=1000,\n",
    "                             learning_rate=0.02,\n",
    "                             depth=12,\n",
    "                             one_hot_max_size=10,\n",
    "                             eval_metric='RMSE',\n",
    "                             random_seed = 23,\n",
    "                             cat_features = categorical_features_pos ,\n",
    "                             bagging_temperature = 0.2,\n",
    "                             od_type='Iter',\n",
    "                             metric_period = 75,\n",
    "                             od_wait=100,)"
   ]
  },
  {
   "cell_type": "code",
   "execution_count": 342,
   "metadata": {},
   "outputs": [
    {
     "name": "stderr",
     "output_type": "stream",
     "text": [
      "Warning: Overfitting detector is active, thus evaluation metric is calculated on every iteration. 'metric_period' is ignored for evaluation metric.\n"
     ]
    },
    {
     "name": "stdout",
     "output_type": "stream",
     "text": [
      "0:\tlearn: 0.0851189\ttest: 0.0835638\tbest: 0.0835638 (0)\ttotal: 977ms\tremaining: 16m 16s\n",
      "75:\tlearn: 0.0497264\ttest: 0.0501588\tbest: 0.0501588 (75)\ttotal: 31.8s\tremaining: 6m 26s\n",
      "150:\tlearn: 0.0455153\ttest: 0.0467061\tbest: 0.0467061 (150)\ttotal: 1m 2s\tremaining: 5m 50s\n",
      "225:\tlearn: 0.0441515\ttest: 0.0459806\tbest: 0.0459806 (225)\ttotal: 1m 28s\tremaining: 5m 2s\n",
      "300:\tlearn: 0.0431778\ttest: 0.0456592\tbest: 0.0456588 (299)\ttotal: 1m 52s\tremaining: 4m 22s\n",
      "375:\tlearn: 0.0424419\ttest: 0.0453871\tbest: 0.0453870 (374)\ttotal: 2m 14s\tremaining: 3m 43s\n",
      "450:\tlearn: 0.0419669\ttest: 0.0452708\tbest: 0.0452708 (449)\ttotal: 2m 30s\tremaining: 3m 3s\n",
      "525:\tlearn: 0.0415405\ttest: 0.0451306\tbest: 0.0451306 (525)\ttotal: 2m 49s\tremaining: 2m 32s\n",
      "600:\tlearn: 0.0411624\ttest: 0.0450197\tbest: 0.0450197 (600)\ttotal: 3m 8s\tremaining: 2m 5s\n",
      "675:\tlearn: 0.0407332\ttest: 0.0448589\tbest: 0.0448586 (670)\ttotal: 3m 32s\tremaining: 1m 42s\n",
      "750:\tlearn: 0.0403613\ttest: 0.0447074\tbest: 0.0447074 (750)\ttotal: 4m 3s\tremaining: 1m 20s\n",
      "825:\tlearn: 0.0400957\ttest: 0.0446371\tbest: 0.0446371 (825)\ttotal: 4m 36s\tremaining: 58.3s\n",
      "900:\tlearn: 0.0398142\ttest: 0.0446127\tbest: 0.0446068 (897)\ttotal: 5m 8s\tremaining: 33.9s\n",
      "975:\tlearn: 0.0396142\ttest: 0.0445801\tbest: 0.0445801 (975)\ttotal: 5m 34s\tremaining: 8.23s\n",
      "999:\tlearn: 0.0395451\ttest: 0.0445789\tbest: 0.0445787 (994)\ttotal: 5m 43s\tremaining: 0us\n",
      "\n",
      "bestTest = 0.04457866638\n",
      "bestIteration = 994\n",
      "\n",
      "Shrink model to first 995 iterations.\n"
     ]
    },
    {
     "data": {
      "text/plain": [
       "<catboost.core.CatBoostRegressor at 0x115e90f90>"
      ]
     },
     "execution_count": 342,
     "metadata": {},
     "output_type": "execute_result"
    }
   ],
   "source": [
    "cb_model.fit(X_train, Y_train,\n",
    "             eval_set=(X_valid,Y_valid),\n",
    "             use_best_model=True)"
   ]
  },
  {
   "cell_type": "code",
   "execution_count": 468,
   "metadata": {},
   "outputs": [
    {
     "name": "stderr",
     "output_type": "stream",
     "text": [
      "Warning: Overfitting detector is active, thus evaluation metric is calculated on every iteration. 'metric_period' is ignored for evaluation metric.\n"
     ]
    },
    {
     "name": "stdout",
     "output_type": "stream",
     "text": [
      "0:\tlearn: 0.0851176\ttest: 0.0835638\tbest: 0.0835638 (0)\ttotal: 1.7s\tremaining: 28m 22s\n",
      "75:\tlearn: 0.0492929\ttest: 0.0500759\tbest: 0.0500759 (75)\ttotal: 35.7s\tremaining: 7m 14s\n",
      "150:\tlearn: 0.0447235\ttest: 0.0463864\tbest: 0.0463864 (150)\ttotal: 1m 4s\tremaining: 6m 5s\n",
      "225:\tlearn: 0.0434448\ttest: 0.0457675\tbest: 0.0457675 (225)\ttotal: 1m 27s\tremaining: 4m 59s\n",
      "300:\tlearn: 0.0425734\ttest: 0.0454501\tbest: 0.0454501 (300)\ttotal: 1m 48s\tremaining: 4m 12s\n",
      "375:\tlearn: 0.0418791\ttest: 0.0452377\tbest: 0.0452377 (375)\ttotal: 2m 11s\tremaining: 3m 37s\n",
      "450:\tlearn: 0.0414281\ttest: 0.0451395\tbest: 0.0451395 (449)\ttotal: 2m 27s\tremaining: 3m\n",
      "525:\tlearn: 0.0410701\ttest: 0.0450202\tbest: 0.0450195 (522)\ttotal: 2m 42s\tremaining: 2m 26s\n",
      "600:\tlearn: 0.0406598\ttest: 0.0448777\tbest: 0.0448766 (595)\ttotal: 3m\tremaining: 1m 59s\n",
      "675:\tlearn: 0.0403267\ttest: 0.0448255\tbest: 0.0448184 (654)\ttotal: 3m 25s\tremaining: 1m 38s\n",
      "750:\tlearn: 0.0399797\ttest: 0.0447520\tbest: 0.0447517 (749)\ttotal: 3m 53s\tremaining: 1m 17s\n",
      "825:\tlearn: 0.0396236\ttest: 0.0446370\tbest: 0.0446370 (825)\ttotal: 4m 28s\tremaining: 56.7s\n",
      "900:\tlearn: 0.0393384\ttest: 0.0445666\tbest: 0.0445666 (900)\ttotal: 4m 55s\tremaining: 32.5s\n",
      "975:\tlearn: 0.0390930\ttest: 0.0445275\tbest: 0.0445247 (956)\ttotal: 5m 21s\tremaining: 7.91s\n",
      "999:\tlearn: 0.0389882\ttest: 0.0445193\tbest: 0.0445186 (993)\ttotal: 5m 33s\tremaining: 0us\n",
      "\n",
      "bestTest = 0.04451862523\n",
      "bestIteration = 993\n",
      "\n",
      "Shrink model to first 994 iterations.\n"
     ]
    },
    {
     "data": {
      "text/plain": [
       "<catboost.core.CatBoostRegressor at 0x112dee290>"
      ]
     },
     "execution_count": 468,
     "metadata": {},
     "output_type": "execute_result"
    }
   ],
   "source": [
    "cb_model.fit(X_train, Y_train,\n",
    "             eval_set=(X_valid,Y_valid),\n",
    "             use_best_model=True)"
   ]
  },
  {
   "cell_type": "code",
   "execution_count": 343,
   "metadata": {},
   "outputs": [
    {
     "data": {
      "text/plain": [
       "0.04457866618444752"
      ]
     },
     "execution_count": 343,
     "metadata": {},
     "output_type": "execute_result"
    }
   ],
   "source": [
    "#iterations 1000\n",
    "rmse(Y_valid, cb_model.predict(X_valid)) "
   ]
  },
  {
   "cell_type": "code",
   "execution_count": 470,
   "metadata": {},
   "outputs": [
    {
     "data": {
      "text/plain": [
       "0.044518625039259914"
      ]
     },
     "execution_count": 470,
     "metadata": {},
     "output_type": "execute_result"
    }
   ],
   "source": [
    "#iterations 1000\n",
    "rmse(Y_valid, cb_model.predict(X_valid)) "
   ]
  },
  {
   "cell_type": "code",
   "execution_count": 471,
   "metadata": {},
   "outputs": [],
   "source": [
    "submit_cb = pd.DataFrame(cb_model.predict(X_test), index=test.index,columns=['target'])"
   ]
  },
  {
   "cell_type": "code",
   "execution_count": 480,
   "metadata": {},
   "outputs": [],
   "source": [
    "#submit_cb.to_csv('submit_12.csv') - переобучен скор на паблике = 0.044828"
   ]
  },
  {
   "cell_type": "code",
   "execution_count": 296,
   "metadata": {},
   "outputs": [],
   "source": [
    "feature_score = pd.DataFrame(list(zip(X_.dtypes.index, cb_model.get_feature_importance(cb.Pool(X_, label=Y_)))),\n",
    "                columns=['Feature','Score'])\n",
    "\n",
    "feature_score = feature_score.sort_values(by='Score', ascending=False, inplace=False, kind='quicksort', na_position='last')"
   ]
  },
  {
   "cell_type": "code",
   "execution_count": 297,
   "metadata": {},
   "outputs": [
    {
     "data": {
      "image/png": "[encoded data removed]",
      "text/plain": [
       "<matplotlib.figure.Figure at 0x11610e290>"
      ]
     },
     "metadata": {},
     "output_type": "display_data"
    }
   ],
   "source": [
    "plt.rcParams[\"figure.figsize\"] = (12,7)\n",
    "ax = feature_score.plot('Feature', 'Score', kind='bar', color='c')\n",
    "ax.set_title(\"Catboost Feature Importance Ranking\", fontsize = 14)\n",
    "ax.set_xlabel('')\n",
    "\n",
    "rects = ax.patches\n",
    "\n",
    "labels = feature_score['Score'].round(2)\n",
    "\n",
    "for rect, label in zip(rects, labels):\n",
    "    height = rect.get_height()\n",
    "    ax.text(rect.get_x() + rect.get_width()/2, height + 0.35, label, ha='center', va='bottom')\n",
    "\n",
    "plt.show()"
   ]
  },
  {
   "cell_type": "markdown",
   "metadata": {},
   "source": [
    "## LightGBM"
   ]
  },
  {
   "cell_type": "code",
   "execution_count": 473,
   "metadata": {},
   "outputs": [],
   "source": [
    "import lightgbm as lgb\n",
    "from sklearn import metrics"
   ]
  },
  {
   "cell_type": "code",
   "execution_count": 474,
   "metadata": {},
   "outputs": [],
   "source": [
    "lgb_model = lgb.LGBMRegressor(objective = 'regression',  \n",
    "                             max_depth = 10,\n",
    "                             colsample_bytre = 0.8,\n",
    "                             subsample = 0.8, \n",
    "                             learning_rate = 0.01,\n",
    "                             n_estimators = 1000)"
   ]
  },
  {
   "cell_type": "code",
   "execution_count": 363,
   "metadata": {},
   "outputs": [],
   "source": [
    "#param_dist = {\"max_depth\": [10, 25,50, 75],\n",
    "#              \"learning_rate\" : [0.01,0.05,0.1],\n",
    "#              \"num_leaves\": [300,900,1200],\n",
    "#              \"n_estimators\": [500,1000],\n",
    "#              \"colsample_bytre\" : [0.8],\n",
    "#               \"subsample\" : [0.8], \n",
    "#             }"
   ]
  },
  {
   "cell_type": "code",
   "execution_count": 364,
   "metadata": {},
   "outputs": [],
   "source": [
    "#lg = lgb.LGBMRegressor(silent=False)\n",
    "#grid_search = GridSearchCV(lg, n_jobs=-1, param_grid=param_dist, cv = 3, scoring=\"neg_mean_squared_error\", verbose=5)\n",
    "#grid_search.fit(X_train,Y_train)\n",
    "#grid_search.best_estimator_"
   ]
  },
  {
   "cell_type": "code",
   "execution_count": 365,
   "metadata": {},
   "outputs": [],
   "source": [
    "#grid_search.best_estimator_"
   ]
  },
  {
   "cell_type": "code",
   "execution_count": 475,
   "metadata": {},
   "outputs": [
    {
     "data": {
      "text/plain": [
       "LGBMRegressor(boosting_type='gbdt', class_weight=None, colsample_bytre=0.8,\n",
       "       colsample_bytree=1.0, importance_type='split', learning_rate=0.01,\n",
       "       max_depth=10, min_child_samples=20, min_child_weight=0.001,\n",
       "       min_split_gain=0.0, n_estimators=1000, n_jobs=-1, num_leaves=31,\n",
       "       objective='regression', random_state=None, reg_alpha=0.0,\n",
       "       reg_lambda=0.0, silent=True, subsample=0.8,\n",
       "       subsample_for_bin=200000, subsample_freq=0)"
      ]
     },
     "execution_count": 475,
     "metadata": {},
     "output_type": "execute_result"
    }
   ],
   "source": [
    "lgb_model.fit(X_train,Y_train)"
   ]
  },
  {
   "cell_type": "code",
   "execution_count": 367,
   "metadata": {},
   "outputs": [],
   "source": [
    "#rmse(Y_valid, grid_search.predict(X_valid))"
   ]
  },
  {
   "cell_type": "code",
   "execution_count": 368,
   "metadata": {},
   "outputs": [
    {
     "data": {
      "text/plain": [
       "0.044913827247448745"
      ]
     },
     "execution_count": 368,
     "metadata": {},
     "output_type": "execute_result"
    }
   ],
   "source": [
    "rmse(Y_valid, lgb_model.predict(X_valid))"
   ]
  },
  {
   "cell_type": "code",
   "execution_count": 476,
   "metadata": {},
   "outputs": [
    {
     "data": {
      "text/plain": [
       "0.04441808713676163"
      ]
     },
     "execution_count": 476,
     "metadata": {},
     "output_type": "execute_result"
    }
   ],
   "source": [
    "rmse(Y_valid, lgb_model.predict(X_valid))"
   ]
  },
  {
   "cell_type": "code",
   "execution_count": 353,
   "metadata": {},
   "outputs": [
    {
     "data": {
      "text/plain": [
       "0.04457866618444752"
      ]
     },
     "execution_count": 353,
     "metadata": {},
     "output_type": "execute_result"
    }
   ],
   "source": [
    "rmse(Y_valid, cb_model.predict(X_valid))"
   ]
  },
  {
   "cell_type": "code",
   "execution_count": 477,
   "metadata": {},
   "outputs": [],
   "source": [
    "submit_lgb = pd.DataFrame(lgb_model.predict(X_test), index=test.index,columns=['target'])"
   ]
  },
  {
   "cell_type": "code",
   "execution_count": 478,
   "metadata": {},
   "outputs": [],
   "source": [
    "submit = 0.6*submit_cb + 0.4*submit_lgb"
   ]
  },
  {
   "cell_type": "code",
   "execution_count": 482,
   "metadata": {},
   "outputs": [],
   "source": [
    "submit.to_csv('submit_13.csv') #!!!!!! - скор на паблике 0.044480 - место 44"
   ]
  },
  {
   "cell_type": "code",
   "execution_count": null,
   "metadata": {},
   "outputs": [],
   "source": []
  }
 ],
 "metadata": {
  "kernelspec": {
   "display_name": "Python 2",
   "language": "python",
   "name": "python2"
  },
  "language_info": {
   "codemirror_mode": {
    "name": "ipython",
    "version": 2
   },
   "file_extension": ".py",
   "mimetype": "text/x-python",
   "name": "python",
   "nbconvert_exporter": "python",
   "pygments_lexer": "ipython2",
   "version": "2.7.14"
  }
 },
 "nbformat": 4,
 "nbformat_minor": 2
}
