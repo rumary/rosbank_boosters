{
 "cells": [
  {
   "cell_type": "code",
   "execution_count": 307,
   "metadata": {},
   "outputs": [],
   "source": [
    "import pandas as pd\n",
    "import numpy as np\n",
    "from math import sin, cos, sqrt, atan2, radians\n",
    "from tqdm import tqdm\n",
    "from sklearn.neighbors import KNeighborsClassifier\n",
    "from sklearn.metrics import mean_squared_error\n",
    "from sklearn.model_selection import train_test_split\n",
    "# magic command to display matplotlib plots inline within the ipython notebook\n",
    "%matplotlib inline\n",
    "# import necessary modules\n",
    "import pandas as pd, numpy as np, matplotlib.pyplot as plt, time\n",
    "from sklearn.cluster import DBSCAN\n",
    "from sklearn import metrics\n",
    "from geopy.distance import great_circle\n",
    "from shapely.geometry import MultiPoint\n",
    "import catboost as cb\n",
    "import urllib\n",
    "import pandas as pd\n",
    "import numpy as np\n",
    "from bs4 import BeautifulSoup\n",
    "import warnings\n",
    "import datetime\n",
    "warnings.simplefilter(\"ignore\")\n",
    "from datetime import datetime\n",
    "from collections import namedtuple\n",
    "import pickle\n",
    "from IPython.display import clear_output\n",
    "from selenium import webdriver\n",
    "from time import sleep\n",
    "import re\n",
    "import lightgbm as lgb\n",
    "from sklearn import metrics"
   ]
  },
  {
   "cell_type": "code",
   "execution_count": 308,
   "metadata": {},
   "outputs": [],
   "source": [
    "def rmse(y_true, y_pred):\n",
    "    return sqrt(mean_squared_error(y_true, y_pred))\n",
    "def update_address(address):\n",
    "    if re.match(r'.+\\sG\\s+', address):\n",
    "        return re.sub('\\sG\\s+', '', address)\n",
    "    else:\n",
    "        return address"
   ]
  },
  {
   "cell_type": "code",
   "execution_count": 309,
   "metadata": {},
   "outputs": [],
   "source": [
    "#https://geocode-maps.yandex.ru/1.x/?geocode=Moscow+Lva+Tolstogo+Street+16&lang=en_US\n",
    "import requests\n",
    "import json\n",
    "YANDEX_URL = \"https://geocode-maps.yandex.ru/1.x\"\n",
    "STATIC = \"/?format=json&lang=en_US&geocode=\"\n",
    "def geocode(address):\n",
    "        response = requests.get(YANDEX_URL + STATIC + address)\n",
    "        parsed_dict = json.loads(response.content)\n",
    "        try:\n",
    "            pos =  parsed_dict['response']['GeoObjectCollection']['featureMember'][0]['GeoObject']['Point']['pos']\n",
    "            lat, lon = [float(item) for item in pos.split()]\n",
    "            return lat, lon\n",
    "        except:\n",
    "            return None, None"
   ]
  },
  {
   "cell_type": "markdown",
   "metadata": {},
   "source": [
    "# Чтение исходных данных"
   ]
  },
  {
   "cell_type": "code",
   "execution_count": 310,
   "metadata": {},
   "outputs": [],
   "source": [
    "train = pd.read_csv('train.csv', index_col=0)\n",
    "test = pd.read_csv('test.csv', index_col=0)\n",
    "train['isTrain'] = True\n",
    "test['isTrain'] = False"
   ]
  },
  {
   "cell_type": "markdown",
   "metadata": {},
   "source": [
    "# Создадим таблицу, с которой будем работать далее"
   ]
  },
  {
   "cell_type": "code",
   "execution_count": 311,
   "metadata": {},
   "outputs": [],
   "source": [
    "X = train.append(test, ignore_index=True)"
   ]
  },
  {
   "cell_type": "code",
   "execution_count": 312,
   "metadata": {},
   "outputs": [
    {
     "data": {
      "text/html": [
       "<div>\n",
       "<style scoped>\n",
       "    .dataframe tbody tr th:only-of-type {\n",
       "        vertical-align: middle;\n",
       "    }\n",
       "\n",
       "    .dataframe tbody tr th {\n",
       "        vertical-align: top;\n",
       "    }\n",
       "\n",
       "    .dataframe thead th {\n",
       "        text-align: right;\n",
       "    }\n",
       "</style>\n",
       "<table border=\"1\" class=\"dataframe\">\n",
       "  <thead>\n",
       "    <tr style=\"text-align: right;\">\n",
       "      <th></th>\n",
       "      <th>address</th>\n",
       "      <th>address_rus</th>\n",
       "      <th>atm_group</th>\n",
       "      <th>id</th>\n",
       "      <th>isTrain</th>\n",
       "      <th>lat</th>\n",
       "      <th>long</th>\n",
       "      <th>target</th>\n",
       "    </tr>\n",
       "  </thead>\n",
       "  <tbody>\n",
       "    <tr>\n",
       "      <th>0</th>\n",
       "      <td>EMELYANOVA,34          Y-SAKHALINSK</td>\n",
       "      <td>улица А.О. Емельянова, 34, Южно-Сахалинск, Сах...</td>\n",
       "      <td>32.0</td>\n",
       "      <td>8526.0</td>\n",
       "      <td>True</td>\n",
       "      <td>46.940995</td>\n",
       "      <td>142.738319</td>\n",
       "      <td>0.011500</td>\n",
       "    </tr>\n",
       "    <tr>\n",
       "      <th>1</th>\n",
       "      <td>KOMSOMOLSKAYA,259B     Y.SAKHALINSK</td>\n",
       "      <td>Комсомольская улица, 259, Южно-Сахалинск, Саха...</td>\n",
       "      <td>32.0</td>\n",
       "      <td>8532.0</td>\n",
       "      <td>True</td>\n",
       "      <td>46.937353</td>\n",
       "      <td>142.753348</td>\n",
       "      <td>0.029710</td>\n",
       "    </tr>\n",
       "    <tr>\n",
       "      <th>2</th>\n",
       "      <td>KOMMUN. PR., 32        YUZHNO SAKHAL</td>\n",
       "      <td>Коммунистический проспект, Южно-Сахалинск, Сах...</td>\n",
       "      <td>32.0</td>\n",
       "      <td>8533.0</td>\n",
       "      <td>True</td>\n",
       "      <td>46.959413</td>\n",
       "      <td>142.741113</td>\n",
       "      <td>0.009540</td>\n",
       "    </tr>\n",
       "    <tr>\n",
       "      <th>3</th>\n",
       "      <td>LENINGRADSKIY PR.,76A  MOSCOW</td>\n",
       "      <td>Ленинградский проспект, 76А, Москва, Россия, 1...</td>\n",
       "      <td>32.0</td>\n",
       "      <td>8684.0</td>\n",
       "      <td>True</td>\n",
       "      <td>55.805827</td>\n",
       "      <td>37.515146</td>\n",
       "      <td>-0.094035</td>\n",
       "    </tr>\n",
       "    <tr>\n",
       "      <th>4</th>\n",
       "      <td>GVARDEYSKAYA PL., 2    NORILSK</td>\n",
       "      <td>Гвардейская площадь, 2, Норильск, Красноярский...</td>\n",
       "      <td>32.0</td>\n",
       "      <td>37.0</td>\n",
       "      <td>True</td>\n",
       "      <td>69.343541</td>\n",
       "      <td>88.211228</td>\n",
       "      <td>0.079277</td>\n",
       "    </tr>\n",
       "  </tbody>\n",
       "</table>\n",
       "</div>"
      ],
      "text/plain": [
       "                                  address  \\\n",
       "0  EMELYANOVA,34          Y-SAKHALINSK      \n",
       "1  KOMSOMOLSKAYA,259B     Y.SAKHALINSK      \n",
       "2  KOMMUN. PR., 32        YUZHNO SAKHAL     \n",
       "3  LENINGRADSKIY PR.,76A  MOSCOW            \n",
       "4  GVARDEYSKAYA PL., 2    NORILSK           \n",
       "\n",
       "                                         address_rus  atm_group      id  \\\n",
       "0  улица А.О. Емельянова, 34, Южно-Сахалинск, Сах...       32.0  8526.0   \n",
       "1  Комсомольская улица, 259, Южно-Сахалинск, Саха...       32.0  8532.0   \n",
       "2  Коммунистический проспект, Южно-Сахалинск, Сах...       32.0  8533.0   \n",
       "3  Ленинградский проспект, 76А, Москва, Россия, 1...       32.0  8684.0   \n",
       "4  Гвардейская площадь, 2, Норильск, Красноярский...       32.0    37.0   \n",
       "\n",
       "   isTrain        lat        long    target  \n",
       "0     True  46.940995  142.738319  0.011500  \n",
       "1     True  46.937353  142.753348  0.029710  \n",
       "2     True  46.959413  142.741113  0.009540  \n",
       "3     True  55.805827   37.515146 -0.094035  \n",
       "4     True  69.343541   88.211228  0.079277  "
      ]
     },
     "execution_count": 312,
     "metadata": {},
     "output_type": "execute_result"
    }
   ],
   "source": [
    "X.head()"
   ]
  },
  {
   "cell_type": "code",
   "execution_count": 313,
   "metadata": {},
   "outputs": [
    {
     "data": {
      "text/plain": [
       "address           0\n",
       "address_rus     420\n",
       "atm_group         0\n",
       "id                0\n",
       "isTrain           0\n",
       "lat             420\n",
       "long            420\n",
       "target         2504\n",
       "dtype: int64"
      ]
     },
     "execution_count": 313,
     "metadata": {},
     "output_type": "execute_result"
    }
   ],
   "source": [
    "X.isnull().sum()"
   ]
  },
  {
   "cell_type": "markdown",
   "metadata": {},
   "source": [
    "Как видно из последней ячейки, в наших данных есть много пропусков. Часть из них можно легко заполнить, например \n",
    "значения lat и long с помощью геокодера Яндекса."
   ]
  },
  {
   "cell_type": "markdown",
   "metadata": {},
   "source": [
    "Как можно было увидеть, изучая адреса на английском, часть из них записана в формате, которые не сможет прочесть геокодер Яндекса. Поэтому применим к таким адресам небольшое преобразование:"
   ]
  },
  {
   "cell_type": "code",
   "execution_count": 314,
   "metadata": {},
   "outputs": [],
   "source": [
    "X.address = X.address.apply(lambda x: update_address(x))"
   ]
  },
  {
   "cell_type": "markdown",
   "metadata": {},
   "source": [
    "## Заполнение пропусков с помощью геокодера Яндекса"
   ]
  },
  {
   "cell_type": "code",
   "execution_count": 315,
   "metadata": {},
   "outputs": [],
   "source": [
    "X[['long','lat']] = X.apply(lambda row: geocode(row['address']) if (np.isnan(row['lat'])|np.isnan(row['long']))\\\n",
    "                                    else (row['long'],row['lat']), axis = 1).apply(pd.Series)"
   ]
  },
  {
   "cell_type": "code",
   "execution_count": 316,
   "metadata": {},
   "outputs": [
    {
     "data": {
      "text/plain": [
       "(8765, 8)"
      ]
     },
     "execution_count": 316,
     "metadata": {},
     "output_type": "execute_result"
    }
   ],
   "source": [
    "X.shape"
   ]
  },
  {
   "cell_type": "code",
   "execution_count": 317,
   "metadata": {},
   "outputs": [
    {
     "data": {
      "text/plain": [
       "address           0\n",
       "address_rus     420\n",
       "atm_group         0\n",
       "id                0\n",
       "isTrain           0\n",
       "lat              76\n",
       "long             76\n",
       "target         2504\n",
       "dtype: int64"
      ]
     },
     "execution_count": 317,
     "metadata": {},
     "output_type": "execute_result"
    }
   ],
   "source": [
    "X.isnull().sum()"
   ]
  },
  {
   "cell_type": "code",
   "execution_count": 318,
   "metadata": {},
   "outputs": [
    {
     "data": {
      "text/html": [
       "<div>\n",
       "<style scoped>\n",
       "    .dataframe tbody tr th:only-of-type {\n",
       "        vertical-align: middle;\n",
       "    }\n",
       "\n",
       "    .dataframe tbody tr th {\n",
       "        vertical-align: top;\n",
       "    }\n",
       "\n",
       "    .dataframe thead th {\n",
       "        text-align: right;\n",
       "    }\n",
       "</style>\n",
       "<table border=\"1\" class=\"dataframe\">\n",
       "  <thead>\n",
       "    <tr style=\"text-align: right;\">\n",
       "      <th></th>\n",
       "      <th>address</th>\n",
       "      <th>address_rus</th>\n",
       "      <th>atm_group</th>\n",
       "      <th>id</th>\n",
       "      <th>isTrain</th>\n",
       "      <th>lat</th>\n",
       "      <th>long</th>\n",
       "      <th>target</th>\n",
       "    </tr>\n",
       "  </thead>\n",
       "  <tbody>\n",
       "    <tr>\n",
       "      <th>40</th>\n",
       "      <td>PER. BAZARNY 4            SPASSK-DALNY</td>\n",
       "      <td>NaN</td>\n",
       "      <td>496.5</td>\n",
       "      <td>4510.0</td>\n",
       "      <td>True</td>\n",
       "      <td>NaN</td>\n",
       "      <td>NaN</td>\n",
       "      <td>0.039191</td>\n",
       "    </tr>\n",
       "    <tr>\n",
       "      <th>150</th>\n",
       "      <td>ABB 6B NAB-CHELNINSKIJ    NAB.CHELNY</td>\n",
       "      <td>NaN</td>\n",
       "      <td>1022.0</td>\n",
       "      <td>347.0</td>\n",
       "      <td>True</td>\n",
       "      <td>NaN</td>\n",
       "      <td>NaN</td>\n",
       "      <td>-0.145001</td>\n",
       "    </tr>\n",
       "    <tr>\n",
       "      <th>475</th>\n",
       "      <td>KR.G. ROSSIJSKAJA,6       OMSK</td>\n",
       "      <td>NaN</td>\n",
       "      <td>3185.5</td>\n",
       "      <td>2746.0</td>\n",
       "      <td>True</td>\n",
       "      <td>NaN</td>\n",
       "      <td>NaN</td>\n",
       "      <td>-0.122659</td>\n",
       "    </tr>\n",
       "    <tr>\n",
       "      <th>506</th>\n",
       "      <td>D. 23, KORP. 1, UL. MATRO BIYSK</td>\n",
       "      <td>NaN</td>\n",
       "      <td>5478.0</td>\n",
       "      <td>8436.0</td>\n",
       "      <td>True</td>\n",
       "      <td>NaN</td>\n",
       "      <td>NaN</td>\n",
       "      <td>-0.137240</td>\n",
       "    </tr>\n",
       "    <tr>\n",
       "      <th>566</th>\n",
       "      <td>D. 91, PR-KT OBVODNYI KAN ARKHANGELSK</td>\n",
       "      <td>NaN</td>\n",
       "      <td>5478.0</td>\n",
       "      <td>5021.0</td>\n",
       "      <td>True</td>\n",
       "      <td>NaN</td>\n",
       "      <td>NaN</td>\n",
       "      <td>-0.069187</td>\n",
       "    </tr>\n",
       "  </tbody>\n",
       "</table>\n",
       "</div>"
      ],
      "text/plain": [
       "                                    address address_rus  atm_group      id  \\\n",
       "40   PER. BAZARNY 4            SPASSK-DALNY         NaN      496.5  4510.0   \n",
       "150  ABB 6B NAB-CHELNINSKIJ    NAB.CHELNY           NaN     1022.0   347.0   \n",
       "475  KR.G. ROSSIJSKAJA,6       OMSK                 NaN     3185.5  2746.0   \n",
       "506         D. 23, KORP. 1, UL. MATRO BIYSK         NaN     5478.0  8436.0   \n",
       "566  D. 91, PR-KT OBVODNYI KAN ARKHANGELSK          NaN     5478.0  5021.0   \n",
       "\n",
       "     isTrain  lat  long    target  \n",
       "40      True  NaN   NaN  0.039191  \n",
       "150     True  NaN   NaN -0.145001  \n",
       "475     True  NaN   NaN -0.122659  \n",
       "506     True  NaN   NaN -0.137240  \n",
       "566     True  NaN   NaN -0.069187  "
      ]
     },
     "execution_count": 318,
     "metadata": {},
     "output_type": "execute_result"
    }
   ],
   "source": [
    "X[X.lat.isnull()==True].head()"
   ]
  },
  {
   "cell_type": "markdown",
   "metadata": {},
   "source": [
    "76 адресов все же не удалось найти с помощью геокодера, заполнила их руками."
   ]
  },
  {
   "cell_type": "code",
   "execution_count": 320,
   "metadata": {},
   "outputs": [],
   "source": [
    "X = X[X.lat.isnull()==False]\n",
    "X_old = pd.read_csv('X_without_nulls.csv')\n",
    "X_2 = X.append(X_old, ignore_index = True)\n",
    "X_2.drop_duplicates(['address','id'], inplace = True, keep = 'first')"
   ]
  },
  {
   "cell_type": "code",
   "execution_count": 321,
   "metadata": {},
   "outputs": [
    {
     "data": {
      "text/plain": [
       "(8765, 9)"
      ]
     },
     "execution_count": 321,
     "metadata": {},
     "output_type": "execute_result"
    }
   ],
   "source": [
    "X_2.shape"
   ]
  },
  {
   "cell_type": "code",
   "execution_count": 322,
   "metadata": {},
   "outputs": [
    {
     "data": {
      "text/plain": [
       "Unnamed: 0     8689\n",
       "address           0\n",
       "address_rus     420\n",
       "atm_group         0\n",
       "id                0\n",
       "isTrain           0\n",
       "lat               0\n",
       "long              1\n",
       "target         2504\n",
       "dtype: int64"
      ]
     },
     "execution_count": 322,
     "metadata": {},
     "output_type": "execute_result"
    }
   ],
   "source": [
    "X_2.isnull().sum()"
   ]
  },
  {
   "cell_type": "code",
   "execution_count": 180,
   "metadata": {},
   "outputs": [],
   "source": [
    "#row = 2259\n",
    "#lat, longg = 55.682336, 52.295119\n",
    "#X.at[row,'lat'] = lat\n",
    "#X.at[row,'long'] = longg"
   ]
  },
  {
   "cell_type": "code",
   "execution_count": 181,
   "metadata": {},
   "outputs": [],
   "source": [
    "#X.to_csv('X_for_model.csv')"
   ]
  },
  {
   "cell_type": "code",
   "execution_count": 182,
   "metadata": {},
   "outputs": [],
   "source": [
    "#X = pd.read_csv('X_for_model.csv')"
   ]
  },
  {
   "cell_type": "code",
   "execution_count": 323,
   "metadata": {},
   "outputs": [],
   "source": [
    "X = X_2.copy()"
   ]
  },
  {
   "cell_type": "markdown",
   "metadata": {},
   "source": [
    "# Количество банкоматов стоящих по одному адресу"
   ]
  },
  {
   "cell_type": "code",
   "execution_count": 324,
   "metadata": {},
   "outputs": [
    {
     "data": {
      "text/html": [
       "<div>\n",
       "<style scoped>\n",
       "    .dataframe tbody tr th:only-of-type {\n",
       "        vertical-align: middle;\n",
       "    }\n",
       "\n",
       "    .dataframe tbody tr th {\n",
       "        vertical-align: top;\n",
       "    }\n",
       "\n",
       "    .dataframe thead th {\n",
       "        text-align: right;\n",
       "    }\n",
       "</style>\n",
       "<table border=\"1\" class=\"dataframe\">\n",
       "  <thead>\n",
       "    <tr style=\"text-align: right;\">\n",
       "      <th></th>\n",
       "      <th>Unnamed: 0</th>\n",
       "      <th>address</th>\n",
       "      <th>address_rus</th>\n",
       "      <th>atm_group</th>\n",
       "      <th>id</th>\n",
       "      <th>isTrain</th>\n",
       "      <th>lat</th>\n",
       "      <th>long</th>\n",
       "      <th>target</th>\n",
       "      <th>count</th>\n",
       "    </tr>\n",
       "  </thead>\n",
       "  <tbody>\n",
       "    <tr>\n",
       "      <th>0</th>\n",
       "      <td>NaN</td>\n",
       "      <td>EMELYANOVA,34          Y-SAKHALINSK</td>\n",
       "      <td>улица А.О. Емельянова, 34, Южно-Сахалинск, Сах...</td>\n",
       "      <td>32.0</td>\n",
       "      <td>8526.0</td>\n",
       "      <td>True</td>\n",
       "      <td>46.940995</td>\n",
       "      <td>142.738319</td>\n",
       "      <td>0.011500</td>\n",
       "      <td>1.0</td>\n",
       "    </tr>\n",
       "    <tr>\n",
       "      <th>1</th>\n",
       "      <td>NaN</td>\n",
       "      <td>KOMSOMOLSKAYA,259B     Y.SAKHALINSK</td>\n",
       "      <td>Комсомольская улица, 259, Южно-Сахалинск, Саха...</td>\n",
       "      <td>32.0</td>\n",
       "      <td>8532.0</td>\n",
       "      <td>True</td>\n",
       "      <td>46.937353</td>\n",
       "      <td>142.753348</td>\n",
       "      <td>0.029710</td>\n",
       "      <td>1.0</td>\n",
       "    </tr>\n",
       "    <tr>\n",
       "      <th>2</th>\n",
       "      <td>NaN</td>\n",
       "      <td>KOMMUN. PR., 32        YUZHNO SAKHAL</td>\n",
       "      <td>Коммунистический проспект, Южно-Сахалинск, Сах...</td>\n",
       "      <td>32.0</td>\n",
       "      <td>8533.0</td>\n",
       "      <td>True</td>\n",
       "      <td>46.959413</td>\n",
       "      <td>142.741113</td>\n",
       "      <td>0.009540</td>\n",
       "      <td>1.0</td>\n",
       "    </tr>\n",
       "    <tr>\n",
       "      <th>3</th>\n",
       "      <td>NaN</td>\n",
       "      <td>LENINGRADSKIY PR.,76A  MOSCOW</td>\n",
       "      <td>Ленинградский проспект, 76А, Москва, Россия, 1...</td>\n",
       "      <td>32.0</td>\n",
       "      <td>8684.0</td>\n",
       "      <td>True</td>\n",
       "      <td>55.805827</td>\n",
       "      <td>37.515146</td>\n",
       "      <td>-0.094035</td>\n",
       "      <td>1.0</td>\n",
       "    </tr>\n",
       "    <tr>\n",
       "      <th>4</th>\n",
       "      <td>NaN</td>\n",
       "      <td>GVARDEYSKAYA PL., 2    NORILSK</td>\n",
       "      <td>Гвардейская площадь, 2, Норильск, Красноярский...</td>\n",
       "      <td>32.0</td>\n",
       "      <td>37.0</td>\n",
       "      <td>True</td>\n",
       "      <td>69.343541</td>\n",
       "      <td>88.211228</td>\n",
       "      <td>0.079277</td>\n",
       "      <td>1.0</td>\n",
       "    </tr>\n",
       "  </tbody>\n",
       "</table>\n",
       "</div>"
      ],
      "text/plain": [
       "   Unnamed: 0                                 address  \\\n",
       "0         NaN  EMELYANOVA,34          Y-SAKHALINSK      \n",
       "1         NaN  KOMSOMOLSKAYA,259B     Y.SAKHALINSK      \n",
       "2         NaN  KOMMUN. PR., 32        YUZHNO SAKHAL     \n",
       "3         NaN  LENINGRADSKIY PR.,76A  MOSCOW            \n",
       "4         NaN  GVARDEYSKAYA PL., 2    NORILSK           \n",
       "\n",
       "                                         address_rus  atm_group      id  \\\n",
       "0  улица А.О. Емельянова, 34, Южно-Сахалинск, Сах...       32.0  8526.0   \n",
       "1  Комсомольская улица, 259, Южно-Сахалинск, Саха...       32.0  8532.0   \n",
       "2  Коммунистический проспект, Южно-Сахалинск, Сах...       32.0  8533.0   \n",
       "3  Ленинградский проспект, 76А, Москва, Россия, 1...       32.0  8684.0   \n",
       "4  Гвардейская площадь, 2, Норильск, Красноярский...       32.0    37.0   \n",
       "\n",
       "   isTrain        lat        long    target  count  \n",
       "0     True  46.940995  142.738319  0.011500    1.0  \n",
       "1     True  46.937353  142.753348  0.029710    1.0  \n",
       "2     True  46.959413  142.741113  0.009540    1.0  \n",
       "3     True  55.805827   37.515146 -0.094035    1.0  \n",
       "4     True  69.343541   88.211228  0.079277    1.0  "
      ]
     },
     "execution_count": 324,
     "metadata": {},
     "output_type": "execute_result"
    }
   ],
   "source": [
    "counts = X.groupby(['lat','long'])['id'].count().reset_index().rename(columns={'id':'count'})\n",
    "X = pd.merge(X, counts, how='left', on=['lat','long'])\n",
    "X.head()"
   ]
  },
  {
   "cell_type": "markdown",
   "metadata": {},
   "source": [
    "# Город размещения"
   ]
  },
  {
   "cell_type": "code",
   "execution_count": 325,
   "metadata": {},
   "outputs": [
    {
     "data": {
      "text/html": [
       "<div>\n",
       "<style scoped>\n",
       "    .dataframe tbody tr th:only-of-type {\n",
       "        vertical-align: middle;\n",
       "    }\n",
       "\n",
       "    .dataframe tbody tr th {\n",
       "        vertical-align: top;\n",
       "    }\n",
       "\n",
       "    .dataframe thead th {\n",
       "        text-align: right;\n",
       "    }\n",
       "</style>\n",
       "<table border=\"1\" class=\"dataframe\">\n",
       "  <thead>\n",
       "    <tr style=\"text-align: right;\">\n",
       "      <th></th>\n",
       "      <th>Unnamed: 0</th>\n",
       "      <th>address</th>\n",
       "      <th>address_rus</th>\n",
       "      <th>atm_group</th>\n",
       "      <th>id</th>\n",
       "      <th>isTrain</th>\n",
       "      <th>lat</th>\n",
       "      <th>long</th>\n",
       "      <th>target</th>\n",
       "      <th>count</th>\n",
       "      <th>city</th>\n",
       "    </tr>\n",
       "  </thead>\n",
       "  <tbody>\n",
       "    <tr>\n",
       "      <th>0</th>\n",
       "      <td>NaN</td>\n",
       "      <td>EMELYANOVA,34          Y-SAKHALINSK</td>\n",
       "      <td>улица А.О. Емельянова, 34, Южно-Сахалинск, Сах...</td>\n",
       "      <td>32.0</td>\n",
       "      <td>8526.0</td>\n",
       "      <td>True</td>\n",
       "      <td>46.940995</td>\n",
       "      <td>142.738319</td>\n",
       "      <td>0.011500</td>\n",
       "      <td>1.0</td>\n",
       "      <td>5272.0</td>\n",
       "    </tr>\n",
       "    <tr>\n",
       "      <th>1</th>\n",
       "      <td>NaN</td>\n",
       "      <td>KOMSOMOLSKAYA,259B     Y.SAKHALINSK</td>\n",
       "      <td>Комсомольская улица, 259, Южно-Сахалинск, Саха...</td>\n",
       "      <td>32.0</td>\n",
       "      <td>8532.0</td>\n",
       "      <td>True</td>\n",
       "      <td>46.937353</td>\n",
       "      <td>142.753348</td>\n",
       "      <td>0.029710</td>\n",
       "      <td>1.0</td>\n",
       "      <td>5272.0</td>\n",
       "    </tr>\n",
       "    <tr>\n",
       "      <th>2</th>\n",
       "      <td>NaN</td>\n",
       "      <td>KOMMUN. PR., 32        YUZHNO SAKHAL</td>\n",
       "      <td>Коммунистический проспект, Южно-Сахалинск, Сах...</td>\n",
       "      <td>32.0</td>\n",
       "      <td>8533.0</td>\n",
       "      <td>True</td>\n",
       "      <td>46.959413</td>\n",
       "      <td>142.741113</td>\n",
       "      <td>0.009540</td>\n",
       "      <td>1.0</td>\n",
       "      <td>6926.5</td>\n",
       "    </tr>\n",
       "    <tr>\n",
       "      <th>3</th>\n",
       "      <td>NaN</td>\n",
       "      <td>LENINGRADSKIY PR.,76A  MOSCOW</td>\n",
       "      <td>Ленинградский проспект, 76А, Москва, Россия, 1...</td>\n",
       "      <td>32.0</td>\n",
       "      <td>8684.0</td>\n",
       "      <td>True</td>\n",
       "      <td>55.805827</td>\n",
       "      <td>37.515146</td>\n",
       "      <td>-0.094035</td>\n",
       "      <td>1.0</td>\n",
       "      <td>2212.5</td>\n",
       "    </tr>\n",
       "    <tr>\n",
       "      <th>4</th>\n",
       "      <td>NaN</td>\n",
       "      <td>GVARDEYSKAYA PL., 2    NORILSK</td>\n",
       "      <td>Гвардейская площадь, 2, Норильск, Красноярский...</td>\n",
       "      <td>32.0</td>\n",
       "      <td>37.0</td>\n",
       "      <td>True</td>\n",
       "      <td>69.343541</td>\n",
       "      <td>88.211228</td>\n",
       "      <td>0.079277</td>\n",
       "      <td>1.0</td>\n",
       "      <td>3152.5</td>\n",
       "    </tr>\n",
       "  </tbody>\n",
       "</table>\n",
       "</div>"
      ],
      "text/plain": [
       "   Unnamed: 0                                 address  \\\n",
       "0         NaN  EMELYANOVA,34          Y-SAKHALINSK      \n",
       "1         NaN  KOMSOMOLSKAYA,259B     Y.SAKHALINSK      \n",
       "2         NaN  KOMMUN. PR., 32        YUZHNO SAKHAL     \n",
       "3         NaN  LENINGRADSKIY PR.,76A  MOSCOW            \n",
       "4         NaN  GVARDEYSKAYA PL., 2    NORILSK           \n",
       "\n",
       "                                         address_rus  atm_group      id  \\\n",
       "0  улица А.О. Емельянова, 34, Южно-Сахалинск, Сах...       32.0  8526.0   \n",
       "1  Комсомольская улица, 259, Южно-Сахалинск, Саха...       32.0  8532.0   \n",
       "2  Коммунистический проспект, Южно-Сахалинск, Сах...       32.0  8533.0   \n",
       "3  Ленинградский проспект, 76А, Москва, Россия, 1...       32.0  8684.0   \n",
       "4  Гвардейская площадь, 2, Норильск, Красноярский...       32.0    37.0   \n",
       "\n",
       "   isTrain        lat        long    target  count    city  \n",
       "0     True  46.940995  142.738319  0.011500    1.0  5272.0  \n",
       "1     True  46.937353  142.753348  0.029710    1.0  5272.0  \n",
       "2     True  46.959413  142.741113  0.009540    1.0  6926.5  \n",
       "3     True  55.805827   37.515146 -0.094035    1.0  2212.5  \n",
       "4     True  69.343541   88.211228  0.079277    1.0  3152.5  "
      ]
     },
     "execution_count": 325,
     "metadata": {},
     "output_type": "execute_result"
    }
   ],
   "source": [
    "X['city'] = X[~X.address_rus.isnull()].address_rus.apply(lambda x: x.split(',')[2])\n",
    "rare_cities = X.city.value_counts()[(X.city.value_counts() < 20) ==True].index\n",
    "X.city = X.city.apply(lambda x: 'RARE' if x in rare_cities else x)\n",
    "X.city= X.city.rank().fillna(-1)\n",
    "X.head()"
   ]
  },
  {
   "cell_type": "markdown",
   "metadata": {},
   "source": [
    "# Расстояния до ближайших банкоматов"
   ]
  },
  {
   "cell_type": "code",
   "execution_count": 326,
   "metadata": {},
   "outputs": [],
   "source": [
    "R = 6373.0 # радиус земли в километрах\n",
    "\n",
    "def distance(x,y):\n",
    "    \"\"\"\n",
    "    Параметры\n",
    "    ----------\n",
    "    x : tuple, широта и долгота первой геокоординаты \n",
    "    y : tuple, широта и долгота второй геокоординаты \n",
    "    \n",
    "    Результат\n",
    "    ----------\n",
    "    result : дистанция в километрах между двумя геокоординатами\n",
    "    \"\"\"\n",
    "    lat_a, long_a, lat_b, long_b = map(radians, [x[0],x[1],y[0],y[1]])    \n",
    "    dlon = long_b - long_a\n",
    "    dlat = lat_b - lat_a\n",
    "    a = sin(dlat/2)**2 + cos(lat_a) * cos(lat_b) * sin(dlon/2)**2\n",
    "    c = 2 * atan2(sqrt(a), sqrt(1 - a))\n",
    "    return R * c"
   ]
  },
  {
   "cell_type": "code",
   "execution_count": 327,
   "metadata": {},
   "outputs": [],
   "source": [
    "knc = KNeighborsClassifier(metric=distance)\n",
    "dots = X[['lat','long']].dropna()\n",
    "knc.fit(X=dots , y=np.ones(dots.shape[0]))\n",
    "distances, indexes = knc.kneighbors(X=dots,n_neighbors=6,)\n",
    "for i in range(1,4):\n",
    "    dots['distance_%s'%i] = distances[:,i]\n",
    "    dots['indexes_%s'%i] = indexes[:,i]\n",
    "dots['mean'] = dots.iloc[:,dots.columns.str.contains('distance')].mean(axis=1)\n",
    "dots = dots.drop(columns = ['lat','long'])\n",
    "X = pd.concat([X,dots], axis=1)"
   ]
  },
  {
   "cell_type": "markdown",
   "metadata": {},
   "source": [
    "# Численность населения города"
   ]
  },
  {
   "cell_type": "code",
   "execution_count": 328,
   "metadata": {},
   "outputs": [
    {
     "data": {
      "text/html": [
       "<div>\n",
       "<style scoped>\n",
       "    .dataframe tbody tr th:only-of-type {\n",
       "        vertical-align: middle;\n",
       "    }\n",
       "\n",
       "    .dataframe tbody tr th {\n",
       "        vertical-align: top;\n",
       "    }\n",
       "\n",
       "    .dataframe thead th {\n",
       "        text-align: right;\n",
       "    }\n",
       "</style>\n",
       "<table border=\"1\" class=\"dataframe\">\n",
       "  <thead>\n",
       "    <tr style=\"text-align: right;\">\n",
       "      <th></th>\n",
       "      <th>Unnamed: 0</th>\n",
       "      <th>address</th>\n",
       "      <th>address_rus</th>\n",
       "      <th>atm_group</th>\n",
       "      <th>id</th>\n",
       "      <th>isTrain</th>\n",
       "      <th>lat</th>\n",
       "      <th>long</th>\n",
       "      <th>target</th>\n",
       "      <th>count</th>\n",
       "      <th>...</th>\n",
       "      <th>distance_1</th>\n",
       "      <th>indexes_1</th>\n",
       "      <th>distance_2</th>\n",
       "      <th>indexes_2</th>\n",
       "      <th>distance_3</th>\n",
       "      <th>indexes_3</th>\n",
       "      <th>mean</th>\n",
       "      <th>city_name</th>\n",
       "      <th>№</th>\n",
       "      <th>population</th>\n",
       "    </tr>\n",
       "  </thead>\n",
       "  <tbody>\n",
       "    <tr>\n",
       "      <th>0</th>\n",
       "      <td>NaN</td>\n",
       "      <td>EMELYANOVA,34          Y-SAKHALINSK</td>\n",
       "      <td>улица А.О. Емельянова, 34, Южно-Сахалинск, Сах...</td>\n",
       "      <td>32.0</td>\n",
       "      <td>8526.0</td>\n",
       "      <td>True</td>\n",
       "      <td>46.940995</td>\n",
       "      <td>142.738319</td>\n",
       "      <td>0.011500</td>\n",
       "      <td>1.0</td>\n",
       "      <td>...</td>\n",
       "      <td>0.171318</td>\n",
       "      <td>8628.0</td>\n",
       "      <td>0.406053</td>\n",
       "      <td>6017.0</td>\n",
       "      <td>0.447444</td>\n",
       "      <td>3718.0</td>\n",
       "      <td>0.341605</td>\n",
       "      <td>Южно-Сахалинск</td>\n",
       "      <td>168.0</td>\n",
       "      <td>194882</td>\n",
       "    </tr>\n",
       "    <tr>\n",
       "      <th>1</th>\n",
       "      <td>NaN</td>\n",
       "      <td>KOMSOMOLSKAYA,259B     Y.SAKHALINSK</td>\n",
       "      <td>Комсомольская улица, 259, Южно-Сахалинск, Саха...</td>\n",
       "      <td>32.0</td>\n",
       "      <td>8532.0</td>\n",
       "      <td>True</td>\n",
       "      <td>46.937353</td>\n",
       "      <td>142.753348</td>\n",
       "      <td>0.029710</td>\n",
       "      <td>1.0</td>\n",
       "      <td>...</td>\n",
       "      <td>0.243277</td>\n",
       "      <td>1703.0</td>\n",
       "      <td>0.649501</td>\n",
       "      <td>433.0</td>\n",
       "      <td>0.720783</td>\n",
       "      <td>8215.0</td>\n",
       "      <td>0.537854</td>\n",
       "      <td>Южно-Сахалинск</td>\n",
       "      <td>168.0</td>\n",
       "      <td>194882</td>\n",
       "    </tr>\n",
       "    <tr>\n",
       "      <th>2</th>\n",
       "      <td>NaN</td>\n",
       "      <td>KOMMUN. PR., 32        YUZHNO SAKHAL</td>\n",
       "      <td>Коммунистический проспект, Южно-Сахалинск, Сах...</td>\n",
       "      <td>32.0</td>\n",
       "      <td>8533.0</td>\n",
       "      <td>True</td>\n",
       "      <td>46.959413</td>\n",
       "      <td>142.741113</td>\n",
       "      <td>0.009540</td>\n",
       "      <td>1.0</td>\n",
       "      <td>...</td>\n",
       "      <td>0.063770</td>\n",
       "      <td>8717.0</td>\n",
       "      <td>0.221691</td>\n",
       "      <td>2491.0</td>\n",
       "      <td>0.221691</td>\n",
       "      <td>4191.0</td>\n",
       "      <td>0.169050</td>\n",
       "      <td>Сахалинская область</td>\n",
       "      <td>NaN</td>\n",
       "      <td>0</td>\n",
       "    </tr>\n",
       "    <tr>\n",
       "      <th>3</th>\n",
       "      <td>NaN</td>\n",
       "      <td>LENINGRADSKIY PR.,76A  MOSCOW</td>\n",
       "      <td>Ленинградский проспект, 76А, Москва, Россия, 1...</td>\n",
       "      <td>32.0</td>\n",
       "      <td>8684.0</td>\n",
       "      <td>True</td>\n",
       "      <td>55.805827</td>\n",
       "      <td>37.515146</td>\n",
       "      <td>-0.094035</td>\n",
       "      <td>1.0</td>\n",
       "      <td>...</td>\n",
       "      <td>0.121670</td>\n",
       "      <td>5171.0</td>\n",
       "      <td>0.121670</td>\n",
       "      <td>5168.0</td>\n",
       "      <td>0.121670</td>\n",
       "      <td>5169.0</td>\n",
       "      <td>0.121670</td>\n",
       "      <td>Москва</td>\n",
       "      <td>75.0</td>\n",
       "      <td>12380664</td>\n",
       "    </tr>\n",
       "    <tr>\n",
       "      <th>4</th>\n",
       "      <td>NaN</td>\n",
       "      <td>GVARDEYSKAYA PL., 2    NORILSK</td>\n",
       "      <td>Гвардейская площадь, 2, Норильск, Красноярский...</td>\n",
       "      <td>32.0</td>\n",
       "      <td>37.0</td>\n",
       "      <td>True</td>\n",
       "      <td>69.343541</td>\n",
       "      <td>88.211228</td>\n",
       "      <td>0.079277</td>\n",
       "      <td>1.0</td>\n",
       "      <td>...</td>\n",
       "      <td>0.199516</td>\n",
       "      <td>4752.0</td>\n",
       "      <td>0.367687</td>\n",
       "      <td>3555.0</td>\n",
       "      <td>0.394887</td>\n",
       "      <td>3527.0</td>\n",
       "      <td>0.320697</td>\n",
       "      <td>Норильск</td>\n",
       "      <td>100.0</td>\n",
       "      <td>178018</td>\n",
       "    </tr>\n",
       "  </tbody>\n",
       "</table>\n",
       "<p>5 rows × 21 columns</p>\n",
       "</div>"
      ],
      "text/plain": [
       "   Unnamed: 0                                 address  \\\n",
       "0         NaN  EMELYANOVA,34          Y-SAKHALINSK      \n",
       "1         NaN  KOMSOMOLSKAYA,259B     Y.SAKHALINSK      \n",
       "2         NaN  KOMMUN. PR., 32        YUZHNO SAKHAL     \n",
       "3         NaN  LENINGRADSKIY PR.,76A  MOSCOW            \n",
       "4         NaN  GVARDEYSKAYA PL., 2    NORILSK           \n",
       "\n",
       "                                         address_rus  atm_group      id  \\\n",
       "0  улица А.О. Емельянова, 34, Южно-Сахалинск, Сах...       32.0  8526.0   \n",
       "1  Комсомольская улица, 259, Южно-Сахалинск, Саха...       32.0  8532.0   \n",
       "2  Коммунистический проспект, Южно-Сахалинск, Сах...       32.0  8533.0   \n",
       "3  Ленинградский проспект, 76А, Москва, Россия, 1...       32.0  8684.0   \n",
       "4  Гвардейская площадь, 2, Норильск, Красноярский...       32.0    37.0   \n",
       "\n",
       "   isTrain        lat        long    target  count     ...      distance_1  \\\n",
       "0     True  46.940995  142.738319  0.011500    1.0     ...        0.171318   \n",
       "1     True  46.937353  142.753348  0.029710    1.0     ...        0.243277   \n",
       "2     True  46.959413  142.741113  0.009540    1.0     ...        0.063770   \n",
       "3     True  55.805827   37.515146 -0.094035    1.0     ...        0.121670   \n",
       "4     True  69.343541   88.211228  0.079277    1.0     ...        0.199516   \n",
       "\n",
       "   indexes_1  distance_2  indexes_2  distance_3  indexes_3      mean  \\\n",
       "0     8628.0    0.406053     6017.0    0.447444     3718.0  0.341605   \n",
       "1     1703.0    0.649501      433.0    0.720783     8215.0  0.537854   \n",
       "2     8717.0    0.221691     2491.0    0.221691     4191.0  0.169050   \n",
       "3     5171.0    0.121670     5168.0    0.121670     5169.0  0.121670   \n",
       "4     4752.0    0.367687     3555.0    0.394887     3527.0  0.320697   \n",
       "\n",
       "              city_name      №  population  \n",
       "0        Южно-Сахалинск  168.0      194882  \n",
       "1        Южно-Сахалинск  168.0      194882  \n",
       "2   Сахалинская область    NaN           0  \n",
       "3                Москва   75.0    12380664  \n",
       "4              Норильск  100.0      178018  \n",
       "\n",
       "[5 rows x 21 columns]"
      ]
     },
     "execution_count": 328,
     "metadata": {},
     "output_type": "execute_result"
    }
   ],
   "source": [
    "X['city_name'] = X[~X.address_rus.isnull()].address_rus.apply(lambda x: x.split(',')[2])\n",
    "cities = pd.read_excel('city2.xlsx')\n",
    "cities.city_name = cities.city_name.apply(lambda x: x.encode('utf-8'))\n",
    "X = pd.merge(X, cities, how='left', on='city_name')\n",
    "X.population = X.population.apply(lambda x: str(x).replace(' ', '')).replace('nan', 0).astype(int)\n",
    "X.head()"
   ]
  },
  {
   "cell_type": "markdown",
   "metadata": {},
   "source": [
    "# Стоит ли банкомат в отделении Росбанка"
   ]
  },
  {
   "cell_type": "code",
   "execution_count": 329,
   "metadata": {},
   "outputs": [
    {
     "data": {
      "text/plain": [
       "(8765, 25)"
      ]
     },
     "execution_count": 329,
     "metadata": {},
     "output_type": "execute_result"
    }
   ],
   "source": [
    "dep = pd.read_csv('departments_with_lat.csv')\n",
    "dep = dep.drop_duplicates(['lat','long'])\n",
    "X = pd.merge(X, dep, how='left', on=['lat','long'])\n",
    "X.is_department = X.is_department.fillna(0)\n",
    "X.shape"
   ]
  },
  {
   "cell_type": "code",
   "execution_count": 330,
   "metadata": {},
   "outputs": [
    {
     "data": {
      "text/plain": [
       "425"
      ]
     },
     "execution_count": 330,
     "metadata": {},
     "output_type": "execute_result"
    }
   ],
   "source": [
    "len(X[X.is_department==1])"
   ]
  },
  {
   "cell_type": "markdown",
   "metadata": {},
   "source": [
    "# Подготовка данных для модели"
   ]
  },
  {
   "cell_type": "code",
   "execution_count": 331,
   "metadata": {},
   "outputs": [],
   "source": [
    "X.atm_group = X.atm_group.astype(int)\n",
    "X.lat, X.long = X.lat.astype(float), X.long.astype(float)"
   ]
  },
  {
   "cell_type": "code",
   "execution_count": 332,
   "metadata": {},
   "outputs": [],
   "source": [
    "X_ = X[X.isTrain][['atm_group', 'lat', 'long',  'count', 'distance_1',\n",
    "                    'distance_2',  'distance_3', 'mean', 'population','id','is_department']]\n",
    "Y_ = X.loc[X.isTrain, 'target']\n",
    "\n",
    "X_test = X[~X.isTrain][['atm_group', 'lat', 'long',  'count', 'distance_1',\n",
    "                    'distance_2',  'distance_3','mean', 'population','id','is_department']]"
   ]
  },
  {
   "cell_type": "code",
   "execution_count": 333,
   "metadata": {},
   "outputs": [
    {
     "data": {
      "text/html": [
       "<div>\n",
       "<style scoped>\n",
       "    .dataframe tbody tr th:only-of-type {\n",
       "        vertical-align: middle;\n",
       "    }\n",
       "\n",
       "    .dataframe tbody tr th {\n",
       "        vertical-align: top;\n",
       "    }\n",
       "\n",
       "    .dataframe thead th {\n",
       "        text-align: right;\n",
       "    }\n",
       "</style>\n",
       "<table border=\"1\" class=\"dataframe\">\n",
       "  <thead>\n",
       "    <tr style=\"text-align: right;\">\n",
       "      <th></th>\n",
       "      <th>atm_group</th>\n",
       "      <th>lat</th>\n",
       "      <th>long</th>\n",
       "      <th>count</th>\n",
       "      <th>distance_1</th>\n",
       "      <th>distance_2</th>\n",
       "      <th>distance_3</th>\n",
       "      <th>mean</th>\n",
       "      <th>population</th>\n",
       "      <th>id</th>\n",
       "      <th>is_department</th>\n",
       "    </tr>\n",
       "  </thead>\n",
       "  <tbody>\n",
       "    <tr>\n",
       "      <th>0</th>\n",
       "      <td>32</td>\n",
       "      <td>46.940995</td>\n",
       "      <td>142.738319</td>\n",
       "      <td>1.0</td>\n",
       "      <td>0.171318</td>\n",
       "      <td>0.406053</td>\n",
       "      <td>0.447444</td>\n",
       "      <td>0.341605</td>\n",
       "      <td>194882</td>\n",
       "      <td>8526.0</td>\n",
       "      <td>0.0</td>\n",
       "    </tr>\n",
       "    <tr>\n",
       "      <th>1</th>\n",
       "      <td>32</td>\n",
       "      <td>46.937353</td>\n",
       "      <td>142.753348</td>\n",
       "      <td>1.0</td>\n",
       "      <td>0.243277</td>\n",
       "      <td>0.649501</td>\n",
       "      <td>0.720783</td>\n",
       "      <td>0.537854</td>\n",
       "      <td>194882</td>\n",
       "      <td>8532.0</td>\n",
       "      <td>0.0</td>\n",
       "    </tr>\n",
       "    <tr>\n",
       "      <th>2</th>\n",
       "      <td>32</td>\n",
       "      <td>46.959413</td>\n",
       "      <td>142.741113</td>\n",
       "      <td>1.0</td>\n",
       "      <td>0.063770</td>\n",
       "      <td>0.221691</td>\n",
       "      <td>0.221691</td>\n",
       "      <td>0.169050</td>\n",
       "      <td>0</td>\n",
       "      <td>8533.0</td>\n",
       "      <td>0.0</td>\n",
       "    </tr>\n",
       "    <tr>\n",
       "      <th>3</th>\n",
       "      <td>32</td>\n",
       "      <td>55.805827</td>\n",
       "      <td>37.515146</td>\n",
       "      <td>1.0</td>\n",
       "      <td>0.121670</td>\n",
       "      <td>0.121670</td>\n",
       "      <td>0.121670</td>\n",
       "      <td>0.121670</td>\n",
       "      <td>12380664</td>\n",
       "      <td>8684.0</td>\n",
       "      <td>0.0</td>\n",
       "    </tr>\n",
       "    <tr>\n",
       "      <th>4</th>\n",
       "      <td>32</td>\n",
       "      <td>69.343541</td>\n",
       "      <td>88.211228</td>\n",
       "      <td>1.0</td>\n",
       "      <td>0.199516</td>\n",
       "      <td>0.367687</td>\n",
       "      <td>0.394887</td>\n",
       "      <td>0.320697</td>\n",
       "      <td>178018</td>\n",
       "      <td>37.0</td>\n",
       "      <td>0.0</td>\n",
       "    </tr>\n",
       "  </tbody>\n",
       "</table>\n",
       "</div>"
      ],
      "text/plain": [
       "   atm_group        lat        long  count  distance_1  distance_2  \\\n",
       "0         32  46.940995  142.738319    1.0    0.171318    0.406053   \n",
       "1         32  46.937353  142.753348    1.0    0.243277    0.649501   \n",
       "2         32  46.959413  142.741113    1.0    0.063770    0.221691   \n",
       "3         32  55.805827   37.515146    1.0    0.121670    0.121670   \n",
       "4         32  69.343541   88.211228    1.0    0.199516    0.367687   \n",
       "\n",
       "   distance_3      mean  population      id  is_department  \n",
       "0    0.447444  0.341605      194882  8526.0            0.0  \n",
       "1    0.720783  0.537854      194882  8532.0            0.0  \n",
       "2    0.221691  0.169050           0  8533.0            0.0  \n",
       "3    0.121670  0.121670    12380664  8684.0            0.0  \n",
       "4    0.394887  0.320697      178018    37.0            0.0  "
      ]
     },
     "execution_count": 333,
     "metadata": {},
     "output_type": "execute_result"
    }
   ],
   "source": [
    "X_.head()"
   ]
  },
  {
   "cell_type": "code",
   "execution_count": 335,
   "metadata": {},
   "outputs": [],
   "source": [
    "X_train, X_valid, Y_train, Y_valid = train_test_split(X_, Y_, test_size=0.25, random_state=1)"
   ]
  },
  {
   "cell_type": "markdown",
   "metadata": {},
   "source": [
    "# Catboost"
   ]
  },
  {
   "cell_type": "code",
   "execution_count": 337,
   "metadata": {},
   "outputs": [],
   "source": [
    "categorical = ['atm_group']"
   ]
  },
  {
   "cell_type": "code",
   "execution_count": 338,
   "metadata": {},
   "outputs": [],
   "source": [
    "def column_index(df, query_cols):\n",
    "    cols = df.columns.values\n",
    "    sidx = np.argsort(cols)\n",
    "    return sidx[np.searchsorted(cols,query_cols,sorter=sidx)]\n",
    "categorical_features_pos = column_index(X_train,categorical)"
   ]
  },
  {
   "cell_type": "code",
   "execution_count": 340,
   "metadata": {},
   "outputs": [],
   "source": [
    "cb_model = cb.CatBoostRegressor(iterations=1000,\n",
    "                             learning_rate=0.02,\n",
    "                             depth=12,\n",
    "                             one_hot_max_size=10,\n",
    "                             eval_metric='RMSE',\n",
    "                             random_seed = 23,\n",
    "                             cat_features = categorical_features_pos ,\n",
    "                             bagging_temperature = 0.2,\n",
    "                             od_type='Iter',\n",
    "                             metric_period = 75,\n",
    "                             od_wait=100,)"
   ]
  },
  {
   "cell_type": "code",
   "execution_count": 341,
   "metadata": {},
   "outputs": [
    {
     "name": "stderr",
     "output_type": "stream",
     "text": [
      "Warning: Overfitting detector is active, thus evaluation metric is calculated on every iteration. 'metric_period' is ignored for evaluation metric.\n"
     ]
    },
    {
     "name": "stdout",
     "output_type": "stream",
     "text": [
      "0:\tlearn: 0.0852179\ttest: 0.0835126\tbest: 0.0835126 (0)\ttotal: 1.44s\tremaining: 23m 56s\n",
      "75:\tlearn: 0.0493118\ttest: 0.0492834\tbest: 0.0492834 (75)\ttotal: 25.8s\tremaining: 5m 13s\n",
      "150:\tlearn: 0.0446653\ttest: 0.0454144\tbest: 0.0454144 (150)\ttotal: 50.1s\tremaining: 4m 41s\n",
      "225:\tlearn: 0.0433466\ttest: 0.0447084\tbest: 0.0447084 (225)\ttotal: 1m 12s\tremaining: 4m 7s\n",
      "300:\tlearn: 0.0425372\ttest: 0.0443466\tbest: 0.0443466 (300)\ttotal: 1m 30s\tremaining: 3m 30s\n",
      "375:\tlearn: 0.0419217\ttest: 0.0441519\tbest: 0.0441519 (375)\ttotal: 1m 43s\tremaining: 2m 51s\n",
      "450:\tlearn: 0.0415982\ttest: 0.0440318\tbest: 0.0440318 (450)\ttotal: 1m 54s\tremaining: 2m 19s\n",
      "525:\tlearn: 0.0412419\ttest: 0.0439329\tbest: 0.0439329 (525)\ttotal: 2m 5s\tremaining: 1m 53s\n",
      "600:\tlearn: 0.0408620\ttest: 0.0438333\tbest: 0.0438322 (597)\ttotal: 2m 22s\tremaining: 1m 34s\n",
      "675:\tlearn: 0.0403764\ttest: 0.0437571\tbest: 0.0437566 (669)\ttotal: 2m 47s\tremaining: 1m 20s\n",
      "750:\tlearn: 0.0402544\ttest: 0.0437176\tbest: 0.0437176 (729)\ttotal: 2m 57s\tremaining: 59s\n",
      "825:\tlearn: 0.0399941\ttest: 0.0436621\tbest: 0.0436592 (817)\ttotal: 3m 14s\tremaining: 41.1s\n",
      "900:\tlearn: 0.0396569\ttest: 0.0435996\tbest: 0.0435982 (897)\ttotal: 3m 38s\tremaining: 24s\n",
      "975:\tlearn: 0.0392602\ttest: 0.0435308\tbest: 0.0435293 (973)\ttotal: 4m 6s\tremaining: 6.05s\n",
      "999:\tlearn: 0.0391443\ttest: 0.0434907\tbest: 0.0434907 (999)\ttotal: 4m 15s\tremaining: 0us\n",
      "\n",
      "bestTest = 0.04349070921\n",
      "bestIteration = 999\n",
      "\n"
     ]
    },
    {
     "data": {
      "text/plain": [
       "<catboost.core.CatBoostRegressor at 0x1159bd3d0>"
      ]
     },
     "execution_count": 341,
     "metadata": {},
     "output_type": "execute_result"
    }
   ],
   "source": [
    "cb_model.fit(X_train, Y_train,\n",
    "             eval_set=(X_valid,Y_valid),\n",
    "             use_best_model=True)"
   ]
  },
  {
   "cell_type": "code",
   "execution_count": 342,
   "metadata": {},
   "outputs": [
    {
     "data": {
      "text/plain": [
       "0.04349070912927313"
      ]
     },
     "execution_count": 342,
     "metadata": {},
     "output_type": "execute_result"
    }
   ],
   "source": [
    "#iterations 1000\n",
    "rmse(Y_valid, cb_model.predict(X_valid)) "
   ]
  },
  {
   "cell_type": "code",
   "execution_count": 343,
   "metadata": {},
   "outputs": [],
   "source": [
    "submit_cb = pd.DataFrame(cb_model.predict(X_test), index=test.index,columns=['target'])"
   ]
  },
  {
   "cell_type": "markdown",
   "metadata": {},
   "source": [
    "# LightGBM"
   ]
  },
  {
   "cell_type": "code",
   "execution_count": 344,
   "metadata": {},
   "outputs": [],
   "source": [
    "lgb_model = lgb.LGBMRegressor(objective = 'regression',  \n",
    "                             max_depth = 10,\n",
    "                             colsample_bytre = 0.8,\n",
    "                             subsample = 0.8, \n",
    "                             learning_rate = 0.01,\n",
    "                             n_estimators = 1000)"
   ]
  },
  {
   "cell_type": "code",
   "execution_count": 345,
   "metadata": {},
   "outputs": [
    {
     "data": {
      "text/plain": [
       "LGBMRegressor(boosting_type='gbdt', class_weight=None, colsample_bytre=0.8,\n",
       "       colsample_bytree=1.0, importance_type='split', learning_rate=0.01,\n",
       "       max_depth=10, min_child_samples=20, min_child_weight=0.001,\n",
       "       min_split_gain=0.0, n_estimators=1000, n_jobs=-1, num_leaves=31,\n",
       "       objective='regression', random_state=None, reg_alpha=0.0,\n",
       "       reg_lambda=0.0, silent=True, subsample=0.8,\n",
       "       subsample_for_bin=200000, subsample_freq=0)"
      ]
     },
     "execution_count": 345,
     "metadata": {},
     "output_type": "execute_result"
    }
   ],
   "source": [
    "lgb_model.fit(X_train,Y_train)"
   ]
  },
  {
   "cell_type": "code",
   "execution_count": 346,
   "metadata": {},
   "outputs": [
    {
     "data": {
      "text/plain": [
       "0.04392725695402974"
      ]
     },
     "execution_count": 346,
     "metadata": {},
     "output_type": "execute_result"
    }
   ],
   "source": [
    "rmse(Y_valid, lgb_model.predict(X_valid))"
   ]
  },
  {
   "cell_type": "code",
   "execution_count": 347,
   "metadata": {},
   "outputs": [],
   "source": [
    "submit_lgb = pd.DataFrame(lgb_model.predict(X_test), index=test.index,columns=['target'])"
   ]
  },
  {
   "cell_type": "code",
   "execution_count": 348,
   "metadata": {},
   "outputs": [],
   "source": [
    "submit = 0.7*submit_cb + 0.3*submit_lgb"
   ]
  },
  {
   "cell_type": "code",
   "execution_count": 298,
   "metadata": {},
   "outputs": [],
   "source": [
    "#submit_cb.to_csv('./submits/submit_22.csv') "
   ]
  },
  {
   "cell_type": "code",
   "execution_count": 349,
   "metadata": {},
   "outputs": [
    {
     "data": {
      "text/html": [
       "<div>\n",
       "<style scoped>\n",
       "    .dataframe tbody tr th:only-of-type {\n",
       "        vertical-align: middle;\n",
       "    }\n",
       "\n",
       "    .dataframe tbody tr th {\n",
       "        vertical-align: top;\n",
       "    }\n",
       "\n",
       "    .dataframe thead th {\n",
       "        text-align: right;\n",
       "    }\n",
       "</style>\n",
       "<table border=\"1\" class=\"dataframe\">\n",
       "  <thead>\n",
       "    <tr style=\"text-align: right;\">\n",
       "      <th></th>\n",
       "      <th>target</th>\n",
       "    </tr>\n",
       "  </thead>\n",
       "  <tbody>\n",
       "    <tr>\n",
       "      <th>0</th>\n",
       "      <td>-0.041447</td>\n",
       "    </tr>\n",
       "    <tr>\n",
       "      <th>1</th>\n",
       "      <td>-0.010197</td>\n",
       "    </tr>\n",
       "    <tr>\n",
       "      <th>2</th>\n",
       "      <td>-0.018761</td>\n",
       "    </tr>\n",
       "    <tr>\n",
       "      <th>3</th>\n",
       "      <td>-0.042017</td>\n",
       "    </tr>\n",
       "    <tr>\n",
       "      <th>4</th>\n",
       "      <td>0.005042</td>\n",
       "    </tr>\n",
       "    <tr>\n",
       "      <th>5</th>\n",
       "      <td>-0.024377</td>\n",
       "    </tr>\n",
       "    <tr>\n",
       "      <th>6</th>\n",
       "      <td>-0.011264</td>\n",
       "    </tr>\n",
       "    <tr>\n",
       "      <th>7</th>\n",
       "      <td>-0.062654</td>\n",
       "    </tr>\n",
       "    <tr>\n",
       "      <th>8</th>\n",
       "      <td>-0.050591</td>\n",
       "    </tr>\n",
       "    <tr>\n",
       "      <th>9</th>\n",
       "      <td>-0.055561</td>\n",
       "    </tr>\n",
       "    <tr>\n",
       "      <th>10</th>\n",
       "      <td>-0.050162</td>\n",
       "    </tr>\n",
       "    <tr>\n",
       "      <th>11</th>\n",
       "      <td>-0.081231</td>\n",
       "    </tr>\n",
       "    <tr>\n",
       "      <th>12</th>\n",
       "      <td>0.014676</td>\n",
       "    </tr>\n",
       "    <tr>\n",
       "      <th>13</th>\n",
       "      <td>0.166964</td>\n",
       "    </tr>\n",
       "    <tr>\n",
       "      <th>14</th>\n",
       "      <td>-0.065655</td>\n",
       "    </tr>\n",
       "    <tr>\n",
       "      <th>15</th>\n",
       "      <td>-0.024665</td>\n",
       "    </tr>\n",
       "    <tr>\n",
       "      <th>16</th>\n",
       "      <td>-0.052300</td>\n",
       "    </tr>\n",
       "    <tr>\n",
       "      <th>17</th>\n",
       "      <td>-0.043647</td>\n",
       "    </tr>\n",
       "    <tr>\n",
       "      <th>18</th>\n",
       "      <td>-0.031217</td>\n",
       "    </tr>\n",
       "    <tr>\n",
       "      <th>19</th>\n",
       "      <td>-0.048509</td>\n",
       "    </tr>\n",
       "    <tr>\n",
       "      <th>20</th>\n",
       "      <td>-0.009096</td>\n",
       "    </tr>\n",
       "    <tr>\n",
       "      <th>21</th>\n",
       "      <td>0.206096</td>\n",
       "    </tr>\n",
       "    <tr>\n",
       "      <th>22</th>\n",
       "      <td>0.198045</td>\n",
       "    </tr>\n",
       "    <tr>\n",
       "      <th>23</th>\n",
       "      <td>0.004010</td>\n",
       "    </tr>\n",
       "    <tr>\n",
       "      <th>24</th>\n",
       "      <td>-0.011667</td>\n",
       "    </tr>\n",
       "    <tr>\n",
       "      <th>25</th>\n",
       "      <td>-0.043713</td>\n",
       "    </tr>\n",
       "    <tr>\n",
       "      <th>26</th>\n",
       "      <td>0.033707</td>\n",
       "    </tr>\n",
       "    <tr>\n",
       "      <th>27</th>\n",
       "      <td>0.152900</td>\n",
       "    </tr>\n",
       "    <tr>\n",
       "      <th>28</th>\n",
       "      <td>-0.040455</td>\n",
       "    </tr>\n",
       "    <tr>\n",
       "      <th>29</th>\n",
       "      <td>-0.025220</td>\n",
       "    </tr>\n",
       "    <tr>\n",
       "      <th>...</th>\n",
       "      <td>...</td>\n",
       "    </tr>\n",
       "    <tr>\n",
       "      <th>2474</th>\n",
       "      <td>-0.023996</td>\n",
       "    </tr>\n",
       "    <tr>\n",
       "      <th>2475</th>\n",
       "      <td>0.011964</td>\n",
       "    </tr>\n",
       "    <tr>\n",
       "      <th>2476</th>\n",
       "      <td>-0.052065</td>\n",
       "    </tr>\n",
       "    <tr>\n",
       "      <th>2477</th>\n",
       "      <td>0.151350</td>\n",
       "    </tr>\n",
       "    <tr>\n",
       "      <th>2478</th>\n",
       "      <td>-0.071123</td>\n",
       "    </tr>\n",
       "    <tr>\n",
       "      <th>2479</th>\n",
       "      <td>-0.092842</td>\n",
       "    </tr>\n",
       "    <tr>\n",
       "      <th>2480</th>\n",
       "      <td>-0.029180</td>\n",
       "    </tr>\n",
       "    <tr>\n",
       "      <th>2481</th>\n",
       "      <td>-0.045465</td>\n",
       "    </tr>\n",
       "    <tr>\n",
       "      <th>2482</th>\n",
       "      <td>0.153370</td>\n",
       "    </tr>\n",
       "    <tr>\n",
       "      <th>2483</th>\n",
       "      <td>0.047653</td>\n",
       "    </tr>\n",
       "    <tr>\n",
       "      <th>2484</th>\n",
       "      <td>0.127104</td>\n",
       "    </tr>\n",
       "    <tr>\n",
       "      <th>2485</th>\n",
       "      <td>0.131095</td>\n",
       "    </tr>\n",
       "    <tr>\n",
       "      <th>2486</th>\n",
       "      <td>-0.032582</td>\n",
       "    </tr>\n",
       "    <tr>\n",
       "      <th>2487</th>\n",
       "      <td>-0.053339</td>\n",
       "    </tr>\n",
       "    <tr>\n",
       "      <th>2488</th>\n",
       "      <td>-0.050530</td>\n",
       "    </tr>\n",
       "    <tr>\n",
       "      <th>2489</th>\n",
       "      <td>-0.019312</td>\n",
       "    </tr>\n",
       "    <tr>\n",
       "      <th>2490</th>\n",
       "      <td>-0.061548</td>\n",
       "    </tr>\n",
       "    <tr>\n",
       "      <th>2491</th>\n",
       "      <td>-0.038046</td>\n",
       "    </tr>\n",
       "    <tr>\n",
       "      <th>2492</th>\n",
       "      <td>-0.067937</td>\n",
       "    </tr>\n",
       "    <tr>\n",
       "      <th>2493</th>\n",
       "      <td>-0.040393</td>\n",
       "    </tr>\n",
       "    <tr>\n",
       "      <th>2494</th>\n",
       "      <td>-0.019102</td>\n",
       "    </tr>\n",
       "    <tr>\n",
       "      <th>2495</th>\n",
       "      <td>-0.024109</td>\n",
       "    </tr>\n",
       "    <tr>\n",
       "      <th>2496</th>\n",
       "      <td>-0.083998</td>\n",
       "    </tr>\n",
       "    <tr>\n",
       "      <th>2497</th>\n",
       "      <td>-0.041680</td>\n",
       "    </tr>\n",
       "    <tr>\n",
       "      <th>2498</th>\n",
       "      <td>-0.036857</td>\n",
       "    </tr>\n",
       "    <tr>\n",
       "      <th>2499</th>\n",
       "      <td>-0.031948</td>\n",
       "    </tr>\n",
       "    <tr>\n",
       "      <th>2500</th>\n",
       "      <td>-0.041453</td>\n",
       "    </tr>\n",
       "    <tr>\n",
       "      <th>2501</th>\n",
       "      <td>-0.024109</td>\n",
       "    </tr>\n",
       "    <tr>\n",
       "      <th>2502</th>\n",
       "      <td>-0.056568</td>\n",
       "    </tr>\n",
       "    <tr>\n",
       "      <th>2503</th>\n",
       "      <td>-0.050352</td>\n",
       "    </tr>\n",
       "  </tbody>\n",
       "</table>\n",
       "<p>2504 rows × 1 columns</p>\n",
       "</div>"
      ],
      "text/plain": [
       "        target\n",
       "0    -0.041447\n",
       "1    -0.010197\n",
       "2    -0.018761\n",
       "3    -0.042017\n",
       "4     0.005042\n",
       "5    -0.024377\n",
       "6    -0.011264\n",
       "7    -0.062654\n",
       "8    -0.050591\n",
       "9    -0.055561\n",
       "10   -0.050162\n",
       "11   -0.081231\n",
       "12    0.014676\n",
       "13    0.166964\n",
       "14   -0.065655\n",
       "15   -0.024665\n",
       "16   -0.052300\n",
       "17   -0.043647\n",
       "18   -0.031217\n",
       "19   -0.048509\n",
       "20   -0.009096\n",
       "21    0.206096\n",
       "22    0.198045\n",
       "23    0.004010\n",
       "24   -0.011667\n",
       "25   -0.043713\n",
       "26    0.033707\n",
       "27    0.152900\n",
       "28   -0.040455\n",
       "29   -0.025220\n",
       "...        ...\n",
       "2474 -0.023996\n",
       "2475  0.011964\n",
       "2476 -0.052065\n",
       "2477  0.151350\n",
       "2478 -0.071123\n",
       "2479 -0.092842\n",
       "2480 -0.029180\n",
       "2481 -0.045465\n",
       "2482  0.153370\n",
       "2483  0.047653\n",
       "2484  0.127104\n",
       "2485  0.131095\n",
       "2486 -0.032582\n",
       "2487 -0.053339\n",
       "2488 -0.050530\n",
       "2489 -0.019312\n",
       "2490 -0.061548\n",
       "2491 -0.038046\n",
       "2492 -0.067937\n",
       "2493 -0.040393\n",
       "2494 -0.019102\n",
       "2495 -0.024109\n",
       "2496 -0.083998\n",
       "2497 -0.041680\n",
       "2498 -0.036857\n",
       "2499 -0.031948\n",
       "2500 -0.041453\n",
       "2501 -0.024109\n",
       "2502 -0.056568\n",
       "2503 -0.050352\n",
       "\n",
       "[2504 rows x 1 columns]"
      ]
     },
     "execution_count": 349,
     "metadata": {},
     "output_type": "execute_result"
    }
   ],
   "source": [
    "submit"
   ]
  },
  {
   "cell_type": "code",
   "execution_count": null,
   "metadata": {},
   "outputs": [],
   "source": []
  }
 ],
 "metadata": {
  "kernelspec": {
   "display_name": "Python 2",
   "language": "python",
   "name": "python2"
  },
  "language_info": {
   "codemirror_mode": {
    "name": "ipython",
    "version": 2
   },
   "file_extension": ".py",
   "mimetype": "text/x-python",
   "name": "python",
   "nbconvert_exporter": "python",
   "pygments_lexer": "ipython2",
   "version": "2.7.14"
  }
 },
 "nbformat": 4,
 "nbformat_minor": 2
}
