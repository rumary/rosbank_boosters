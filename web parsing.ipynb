{
 "cells": [
  {
   "cell_type": "code",
   "execution_count": 2,
   "metadata": {},
   "outputs": [],
   "source": [
    "import pandas as pd\n",
    "import numpy as np\n",
    "from math import sin, cos, sqrt, atan2, radians\n",
    "from tqdm import tqdm\n",
    "from sklearn.neighbors import KNeighborsClassifier\n",
    "from sklearn.metrics import mean_squared_error\n",
    "from sklearn.model_selection import train_test_split\n",
    "from sklearn.model_selection import GridSearchCV\n",
    "# magic command to display matplotlib plots inline within the ipython notebook\n",
    "%matplotlib inline\n",
    "# import necessary modules\n",
    "import pandas as pd, numpy as np, matplotlib.pyplot as plt, time\n",
    "from sklearn.cluster import DBSCAN\n",
    "from sklearn import metrics\n",
    "from geopy.distance import great_circle\n",
    "from shapely.geometry import MultiPoint\n",
    "import requests\n",
    "import time\n",
    "import catboost as cb"
   ]
  },
  {
   "cell_type": "code",
   "execution_count": 7,
   "metadata": {},
   "outputs": [],
   "source": [
    "X = pd.read_csv('X_without_nulls.csv').drop(columns={'Unnamed: 0'},axis=1)"
   ]
  },
  {
   "cell_type": "code",
   "execution_count": 8,
   "metadata": {},
   "outputs": [],
   "source": [
    "# отобранные тэги \n",
    "tags_list = ['shop','public_transport','office','cafe',\n",
    "            'tourism','craft','amenity','building','sport','railway=station','education']"
   ]
  },
  {
   "cell_type": "code",
   "execution_count": 9,
   "metadata": {},
   "outputs": [],
   "source": [
    "# базовые фичи\n",
    "POINT_FEATURE_FILTERS = [\n",
    "    ('tagged', lambda node: len(node.tags) > 0),\n",
    "    ('railway', lambda node: node.tags.get('railway') == 'station'),\n",
    "    ('shop', lambda node: 'shop' in node.tags),\n",
    "    ('public_transport', lambda node: 'public_transport' in node.tags),\n",
    "    ('office', lambda node: 'office' in node.tags),\n",
    "    ('cafe', lambda node: 'cafe' in node.tags),\n",
    "    ('tourism', lambda node: 'tourism' in node.tags),\n",
    "    ('education', lambda node: 'education' in node.tags),    \n",
    "]\n",
    "\n",
    "# доп фичи\n",
    "for i in tags_list:\n",
    "    POINT_FEATURE_FILTERS.append((i, lambda node: i in node.tags))"
   ]
  },
  {
   "cell_type": "code",
   "execution_count": 10,
   "metadata": {},
   "outputs": [
    {
     "data": {
      "text/plain": [
       "[('tagged', <function __main__.<lambda>>),\n",
       " ('railway', <function __main__.<lambda>>),\n",
       " ('shop', <function __main__.<lambda>>),\n",
       " ('public_transport', <function __main__.<lambda>>),\n",
       " ('office', <function __main__.<lambda>>),\n",
       " ('cafe', <function __main__.<lambda>>),\n",
       " ('tourism', <function __main__.<lambda>>),\n",
       " ('education', <function __main__.<lambda>>),\n",
       " ('shop', <function __main__.<lambda>>),\n",
       " ('public_transport', <function __main__.<lambda>>),\n",
       " ('office', <function __main__.<lambda>>),\n",
       " ('cafe', <function __main__.<lambda>>),\n",
       " ('tourism', <function __main__.<lambda>>),\n",
       " ('craft', <function __main__.<lambda>>),\n",
       " ('amenity', <function __main__.<lambda>>),\n",
       " ('building', <function __main__.<lambda>>),\n",
       " ('sport', <function __main__.<lambda>>),\n",
       " ('railway=station', <function __main__.<lambda>>),\n",
       " ('education', <function __main__.<lambda>>)]"
      ]
     },
     "execution_count": 10,
     "metadata": {},
     "output_type": "execute_result"
    }
   ],
   "source": [
    "POINT_FEATURE_FILTERS"
   ]
  },
  {
   "cell_type": "code",
   "execution_count": 11,
   "metadata": {},
   "outputs": [
    {
     "data": {
      "text/html": [
       "<div>\n",
       "<style scoped>\n",
       "    .dataframe tbody tr th:only-of-type {\n",
       "        vertical-align: middle;\n",
       "    }\n",
       "\n",
       "    .dataframe tbody tr th {\n",
       "        vertical-align: top;\n",
       "    }\n",
       "\n",
       "    .dataframe thead th {\n",
       "        text-align: right;\n",
       "    }\n",
       "</style>\n",
       "<table border=\"1\" class=\"dataframe\">\n",
       "  <thead>\n",
       "    <tr style=\"text-align: right;\">\n",
       "      <th></th>\n",
       "      <th>address</th>\n",
       "      <th>address_rus</th>\n",
       "      <th>atm_group</th>\n",
       "      <th>id</th>\n",
       "      <th>isTrain</th>\n",
       "      <th>lat</th>\n",
       "      <th>long</th>\n",
       "      <th>target</th>\n",
       "    </tr>\n",
       "  </thead>\n",
       "  <tbody>\n",
       "    <tr>\n",
       "      <th>0</th>\n",
       "      <td>EMELYANOVA,34          Y-SAKHALINSK</td>\n",
       "      <td>улица А.О. Емельянова, 34, Южно-Сахалинск, Сах...</td>\n",
       "      <td>32.0</td>\n",
       "      <td>8526.0</td>\n",
       "      <td>True</td>\n",
       "      <td>46.940995</td>\n",
       "      <td>142.738319</td>\n",
       "      <td>0.011500</td>\n",
       "    </tr>\n",
       "    <tr>\n",
       "      <th>1</th>\n",
       "      <td>KOMSOMOLSKAYA,259B     Y.SAKHALINSK</td>\n",
       "      <td>Комсомольская улица, 259, Южно-Сахалинск, Саха...</td>\n",
       "      <td>32.0</td>\n",
       "      <td>8532.0</td>\n",
       "      <td>True</td>\n",
       "      <td>46.937353</td>\n",
       "      <td>142.753348</td>\n",
       "      <td>0.029710</td>\n",
       "    </tr>\n",
       "    <tr>\n",
       "      <th>2</th>\n",
       "      <td>KOMMUN. PR., 32        YUZHNO SAKHAL</td>\n",
       "      <td>Коммунистический проспект, Южно-Сахалинск, Сах...</td>\n",
       "      <td>32.0</td>\n",
       "      <td>8533.0</td>\n",
       "      <td>True</td>\n",
       "      <td>46.959413</td>\n",
       "      <td>142.741113</td>\n",
       "      <td>0.009540</td>\n",
       "    </tr>\n",
       "    <tr>\n",
       "      <th>3</th>\n",
       "      <td>LENINGRADSKIY PR.,76A  MOSCOW</td>\n",
       "      <td>Ленинградский проспект, 76А, Москва, Россия, 1...</td>\n",
       "      <td>32.0</td>\n",
       "      <td>8684.0</td>\n",
       "      <td>True</td>\n",
       "      <td>55.805827</td>\n",
       "      <td>37.515146</td>\n",
       "      <td>-0.094035</td>\n",
       "    </tr>\n",
       "    <tr>\n",
       "      <th>4</th>\n",
       "      <td>GVARDEYSKAYA PL., 2    NORILSK</td>\n",
       "      <td>Гвардейская площадь, 2, Норильск, Красноярский...</td>\n",
       "      <td>32.0</td>\n",
       "      <td>37.0</td>\n",
       "      <td>True</td>\n",
       "      <td>69.343541</td>\n",
       "      <td>88.211228</td>\n",
       "      <td>0.079277</td>\n",
       "    </tr>\n",
       "  </tbody>\n",
       "</table>\n",
       "</div>"
      ],
      "text/plain": [
       "                                  address  \\\n",
       "0  EMELYANOVA,34          Y-SAKHALINSK      \n",
       "1  KOMSOMOLSKAYA,259B     Y.SAKHALINSK      \n",
       "2  KOMMUN. PR., 32        YUZHNO SAKHAL     \n",
       "3  LENINGRADSKIY PR.,76A  MOSCOW            \n",
       "4  GVARDEYSKAYA PL., 2    NORILSK           \n",
       "\n",
       "                                         address_rus  atm_group      id  \\\n",
       "0  улица А.О. Емельянова, 34, Южно-Сахалинск, Сах...       32.0  8526.0   \n",
       "1  Комсомольская улица, 259, Южно-Сахалинск, Саха...       32.0  8532.0   \n",
       "2  Коммунистический проспект, Южно-Сахалинск, Сах...       32.0  8533.0   \n",
       "3  Ленинградский проспект, 76А, Москва, Россия, 1...       32.0  8684.0   \n",
       "4  Гвардейская площадь, 2, Норильск, Красноярский...       32.0    37.0   \n",
       "\n",
       "   isTrain        lat        long    target  \n",
       "0     True  46.940995  142.738319  0.011500  \n",
       "1     True  46.937353  142.753348  0.029710  \n",
       "2     True  46.959413  142.741113  0.009540  \n",
       "3     True  55.805827   37.515146 -0.094035  \n",
       "4     True  69.343541   88.211228  0.079277  "
      ]
     },
     "execution_count": 11,
     "metadata": {},
     "output_type": "execute_result"
    }
   ],
   "source": [
    "X.head()"
   ]
  },
  {
   "cell_type": "code",
   "execution_count": 13,
   "metadata": {},
   "outputs": [],
   "source": [
    "# центры квадратов в виде матрицы\n",
    "X_zone_centers = X[['lat', 'long']].as_matrix()"
   ]
  },
  {
   "cell_type": "code",
   "execution_count": 15,
   "metadata": {},
   "outputs": [
    {
     "name": "stdout",
     "output_type": "stream",
     "text": [
      "tagged\n"
     ]
    },
    {
     "ename": "NameError",
     "evalue": "name 'tagged_nodes' is not defined",
     "output_type": "error",
     "traceback": [
      "\u001b[0;31m---------------------------------------------------------------------------\u001b[0m",
      "\u001b[0;31mNameError\u001b[0m                                 Traceback (most recent call last)",
      "\u001b[0;32m<ipython-input-15-52ebedbe59d9>\u001b[0m in \u001b[0;36m<module>\u001b[0;34m()\u001b[0m\n\u001b[1;32m      6\u001b[0m     coords = np.array([\n\u001b[1;32m      7\u001b[0m         \u001b[0;34m[\u001b[0m\u001b[0mnode\u001b[0m\u001b[0;34m.\u001b[0m\u001b[0mlat\u001b[0m\u001b[0;34m,\u001b[0m \u001b[0mnode\u001b[0m\u001b[0;34m.\u001b[0m\u001b[0mlon\u001b[0m\u001b[0;34m]\u001b[0m\u001b[0;34m\u001b[0m\u001b[0m\n\u001b[0;32m----> 8\u001b[0;31m         \u001b[0;32mfor\u001b[0m \u001b[0mnode\u001b[0m \u001b[0;32min\u001b[0m \u001b[0mtagged_nodes\u001b[0m\u001b[0;34m\u001b[0m\u001b[0m\n\u001b[0m\u001b[1;32m      9\u001b[0m         \u001b[0;32mif\u001b[0m \u001b[0mpoint_filter\u001b[0m\u001b[0;34m(\u001b[0m\u001b[0mnode\u001b[0m\u001b[0;34m)\u001b[0m\u001b[0;34m\u001b[0m\u001b[0m\n\u001b[1;32m     10\u001b[0m     ])\n",
      "\u001b[0;31mNameError\u001b[0m: name 'tagged_nodes' is not defined"
     ]
    }
   ],
   "source": [
    "for prefix, point_filter in POINT_FEATURE_FILTERS:\n",
    "    \n",
    "    print(prefix)\n",
    "    \n",
    "    # берем подмножество точек в соответствии с фильтром\n",
    "    coords = np.array([\n",
    "        [node.lat, node.lon]\n",
    "        for node in tagged_nodes\n",
    "        if point_filter(node)\n",
    "    ])\n",
    "\n",
    "    # строим структуру данных для быстрого поиска точек\n",
    "    neighbors = NearestNeighbors().fit(coords)\n",
    "    \n",
    "    # признак вида \"количество точек в радиусе R от центра квадрата\"\n",
    "    for radius in [0.001, 0.003, 0.005, 0.007, 0.01]:\n",
    "        dists, inds = neighbors.radius_neighbors(X=X_zone_centers, radius=radius)\n",
    "        df_features['{}_points_in_{}'.format(prefix, radius)] = np.array([len(x) for x in inds])\n",
    "\n",
    "    # признак вида \"расстояние до ближайших K точек\"\n",
    "    for n_neighbors in [3, 5, 10, 15, 21]:\n",
    "        dists, inds = neighbors.kneighbors(X=X_zone_centers, n_neighbors=n_neighbors)\n",
    "        df_features['{}_mean_dist_k_{}'.format(prefix, n_neighbors)] = dists.mean(axis=1)\n",
    "        df_features['{}_max_dist_k_{}'.format(prefix, n_neighbors)] = dists.max(axis=1)\n",
    "        df_features['{}_std_dist_k_{}'.format(prefix, n_neighbors)] = dists.std(axis=1)\n",
    "\n",
    "    # признак вида \"расстояние до ближайшей точки\"\n",
    "    df_features['{}_min'.format(prefix)] = dists.min(axis=1)"
   ]
  },
  {
   "cell_type": "code",
   "execution_count": 322,
   "metadata": {},
   "outputs": [],
   "source": [
    "## OSM\n",
    "import requests\n",
    "import json\n",
    "\n",
    "overpass_url = \"http://overpass-api.de/api/interpreter\"\n",
    "overpass_query = \"\"\"\n",
    "[out:json];\n",
    "area[\"ISO3166-1\"=\"RU\"][admin_lev el=2];\n",
    "(node[\"amenity\"=\"cafe\"](area);\n",
    " way[\"amenity\"=\"cafe\"](area);\n",
    " rel[\"amenity\"=\"cafe\"](area);\n",
    ");\n",
    "out center;\n",
    "\"\"\"\n",
    "response = requests.get(overpass_url, \n",
    "                        params={'data': overpass_query})\n",
    "#data = response.json()"
   ]
  },
  {
   "cell_type": "markdown",
   "metadata": {},
   "source": [
    "## список отделений Росбанка"
   ]
  },
  {
   "cell_type": "code",
   "execution_count": 138,
   "metadata": {},
   "outputs": [],
   "source": [
    "from bs4 import BeautifulSoup"
   ]
  },
  {
   "cell_type": "code",
   "execution_count": 139,
   "metadata": {},
   "outputs": [],
   "source": [
    "import requests\n",
    "session = requests.Session() \n",
    "url = 'https://bankiros.ru/bank/rosbank/departments-tab' "
   ]
  },
  {
   "cell_type": "code",
   "execution_count": null,
   "metadata": {},
   "outputs": [],
   "source": [
    "import urllib2\n",
    "from bs4 import BeautifulSoup\n",
    "page = urllib2.urlopen('some_site').read()\n",
    "soup = BeautifulSoup(page)\n",
    "body = soup.find('body')\n",
    "the_contents_of_body_without_body_tags = body.findChildren()"
   ]
  },
  {
   "cell_type": "code",
   "execution_count": null,
   "metadata": {},
   "outputs": [],
   "source": [
    "soup = BeautifulSoup(page)"
   ]
  },
  {
   "cell_type": "code",
   "execution_count": 140,
   "metadata": {},
   "outputs": [],
   "source": [
    "request = session.get(url)"
   ]
  },
  {
   "cell_type": "code",
   "execution_count": 141,
   "metadata": {
    "scrolled": false
   },
   "outputs": [],
   "source": [
    "text = request.text"
   ]
  },
  {
   "cell_type": "code",
   "execution_count": 142,
   "metadata": {},
   "outputs": [],
   "source": [
    "soup = BeautifulSoup(text)"
   ]
  },
  {
   "cell_type": "code",
   "execution_count": 143,
   "metadata": {},
   "outputs": [],
   "source": [
    "body = soup.find('body').find('div', {'class': 'container main-container'}).find('section').find('div', {'class': 'wrapper'})"
   ]
  },
  {
   "cell_type": "code",
   "execution_count": 144,
   "metadata": {},
   "outputs": [],
   "source": [
    "body2 = body.find('div', {'class': 'mapobject_table clearfix mr-m-20'})"
   ]
  },
  {
   "cell_type": "code",
   "execution_count": 145,
   "metadata": {
    "scrolled": false
   },
   "outputs": [],
   "source": [
    "body3 = body2.find('div', {'id': 'pjg_w0'}).find('div', {'id': 'w0'})"
   ]
  },
  {
   "cell_type": "code",
   "execution_count": 146,
   "metadata": {},
   "outputs": [],
   "source": [
    "body4 = body3.find('table', {'class': 'standard products dep-tab'})"
   ]
  },
  {
   "cell_type": "code",
   "execution_count": 147,
   "metadata": {},
   "outputs": [],
   "source": [
    "def cond(x):\n",
    "    if x:\n",
    "        return x.startswith(\"dep_adress col-sm-6\")\n",
    "    else:\n",
    "        return False"
   ]
  },
  {
   "cell_type": "code",
   "execution_count": 148,
   "metadata": {
    "scrolled": false
   },
   "outputs": [],
   "source": [
    "tr = body4.find('tbody')\n",
    "td = tr.findAll('td', {'class': cond})"
   ]
  },
  {
   "cell_type": "code",
   "execution_count": 149,
   "metadata": {},
   "outputs": [],
   "source": [
    "import re"
   ]
  },
  {
   "cell_type": "code",
   "execution_count": 152,
   "metadata": {},
   "outputs": [
    {
     "name": "stdout",
     "output_type": "stream",
     "text": [
      "Московская область, Дубна, проспект Боголюбова, 31\n",
      "Республика Башкортостан, Салават, Октябрьская улица, 31\n",
      "Архангельская область, Новодвинск, улица Ворошилова, 3\n",
      "Алтайский край, Славгород, улица Володарского, 143/1\n",
      "Приморский край, Партизанск, Ленинская улица, 1\n",
      "Новгородская область, Боровичи, улица Подбельского, 36\n",
      "Омская область, Называевск, улица Ленина, 68\n",
      "Хабаровский край, Вяземский, улица Козюкова, 5\n",
      "Костромская область, Шарья, Водопроводный переулок, 5\n",
      "Удмуртская Республика, Сарапул, Советская улица, 17А\n",
      "Республика Калмыкия, Лагань, улица Баташова, 1\n",
      "Амурская область, Шимановск, улица Крупской, 9\n",
      "Владимирская область, Киржач, Советская улица\n",
      "Курская область, Курчатов, Коммунистический проспект, 7\n",
      "143968, Московская область, Реутов, улица Победы, 30\n",
      "Приморский край, Спасск-Дальний, Советская улица, 41\n",
      "Оренбургская область, Орск, проспект Ленина, 93\n",
      "Орловская область, Ливны, улица Карла Маркса, 139\n",
      "Амурская область, Сковородино, улица Победы, 17\n",
      "Московская область, Серпухов, 1-я Московская улица, 11\n"
     ]
    }
   ],
   "source": [
    "for i in range(len(td)):\n",
    "    print str(td[i]).split('>')[1][:-4]"
   ]
  },
  {
   "cell_type": "code",
   "execution_count": 159,
   "metadata": {},
   "outputs": [],
   "source": [
    "import pandas as pd\n",
    "departments = pd.DataFrame(columns={'Address'})"
   ]
  },
  {
   "cell_type": "code",
   "execution_count": 170,
   "metadata": {},
   "outputs": [
    {
     "name": "stdout",
     "output_type": "stream",
     "text": [
      "https://bankiros.ru/bank/rosbank/departments-tab?page=1\n",
      "https://bankiros.ru/bank/rosbank/departments-tab?page=2\n",
      "https://bankiros.ru/bank/rosbank/departments-tab?page=3\n",
      "https://bankiros.ru/bank/rosbank/departments-tab?page=4\n",
      "https://bankiros.ru/bank/rosbank/departments-tab?page=5\n",
      "https://bankiros.ru/bank/rosbank/departments-tab?page=6\n",
      "https://bankiros.ru/bank/rosbank/departments-tab?page=7\n",
      "https://bankiros.ru/bank/rosbank/departments-tab?page=8\n",
      "https://bankiros.ru/bank/rosbank/departments-tab?page=9\n",
      "https://bankiros.ru/bank/rosbank/departments-tab?page=10\n",
      "https://bankiros.ru/bank/rosbank/departments-tab?page=11\n",
      "https://bankiros.ru/bank/rosbank/departments-tab?page=12\n",
      "https://bankiros.ru/bank/rosbank/departments-tab?page=13\n",
      "https://bankiros.ru/bank/rosbank/departments-tab?page=14\n",
      "https://bankiros.ru/bank/rosbank/departments-tab?page=15\n",
      "https://bankiros.ru/bank/rosbank/departments-tab?page=16\n",
      "https://bankiros.ru/bank/rosbank/departments-tab?page=17\n",
      "https://bankiros.ru/bank/rosbank/departments-tab?page=18\n",
      "https://bankiros.ru/bank/rosbank/departments-tab?page=19\n",
      "https://bankiros.ru/bank/rosbank/departments-tab?page=20\n",
      "https://bankiros.ru/bank/rosbank/departments-tab?page=21\n"
     ]
    }
   ],
   "source": [
    "j=0\n",
    "for page in range(1,22):\n",
    "    url = 'https://bankiros.ru/bank/rosbank/departments-tab?page=%s' %(page)\n",
    "    print url\n",
    "    request = session.get(url)\n",
    "    text = request.text\n",
    "    soup = BeautifulSoup(text)\n",
    "    body = soup.find('body').find('div', {'class': 'container main-container'}).find('section').find('div', {'class': 'wrapper'})\n",
    "    body2 = body.find('div', {'class': 'mapobject_table clearfix mr-m-20'})\n",
    "    body3 = body2.find('div', {'id': 'pjg_w0'}).find('div', {'id': 'w0'})\n",
    "    body4 = body3.find('table', {'class': 'standard products dep-tab'})\n",
    "    tr = body4.find('tbody')\n",
    "    td = tr.findAll('td', {'class': cond})\n",
    "    for i in range(len(td)):\n",
    "        address = str(td[i]).split('>')[1][:-4]\n",
    "        departments.loc[j] = address\n",
    "        j+=1"
   ]
  },
  {
   "cell_type": "code",
   "execution_count": 172,
   "metadata": {},
   "outputs": [],
   "source": [
    "departments.to_csv('rosbank_departments.csv')"
   ]
  },
  {
   "cell_type": "markdown",
   "metadata": {},
   "source": [
    "## список отделений Сбербанка"
   ]
  },
  {
   "cell_type": "code",
   "execution_count": 306,
   "metadata": {},
   "outputs": [],
   "source": [
    "sber = pd.read_excel('branches-2.xls')"
   ]
  },
  {
   "cell_type": "code",
   "execution_count": 307,
   "metadata": {},
   "outputs": [],
   "source": [
    "sber = sber.drop(columns = sber.columns[0:8]).drop(columns = sber.columns[12:])"
   ]
  },
  {
   "cell_type": "code",
   "execution_count": 308,
   "metadata": {},
   "outputs": [],
   "source": [
    "sber = sber.reset_index().drop(columns = {'index'})\n",
    "sber = sber.drop(sber.index[:3]).reset_index().drop(columns = {'index'})"
   ]
  },
  {
   "cell_type": "code",
   "execution_count": 309,
   "metadata": {},
   "outputs": [],
   "source": [
    "sber = sber.dropna(axis=0, how='any')"
   ]
  },
  {
   "cell_type": "code",
   "execution_count": 310,
   "metadata": {},
   "outputs": [
    {
     "data": {
      "text/html": [
       "<div>\n",
       "<style scoped>\n",
       "    .dataframe tbody tr th:only-of-type {\n",
       "        vertical-align: middle;\n",
       "    }\n",
       "\n",
       "    .dataframe tbody tr th {\n",
       "        vertical-align: top;\n",
       "    }\n",
       "\n",
       "    .dataframe thead th {\n",
       "        text-align: right;\n",
       "    }\n",
       "</style>\n",
       "<table border=\"1\" class=\"dataframe\">\n",
       "  <thead>\n",
       "    <tr style=\"text-align: right;\">\n",
       "      <th></th>\n",
       "      <th>Unnamed: 8</th>\n",
       "      <th>Unnamed: 9</th>\n",
       "      <th>Unnamed: 10</th>\n",
       "      <th>Unnamed: 11</th>\n",
       "    </tr>\n",
       "  </thead>\n",
       "  <tbody>\n",
       "    <tr>\n",
       "      <th>0</th>\n",
       "      <td>Белгородская область</td>\n",
       "      <td>г.Белгород</td>\n",
       "      <td>улица Князя Трубецкого</td>\n",
       "      <td>24</td>\n",
       "    </tr>\n",
       "    <tr>\n",
       "      <th>1</th>\n",
       "      <td>Белгородская область</td>\n",
       "      <td>г.Белгород</td>\n",
       "      <td>улица Некрасова</td>\n",
       "      <td>5/8, корп.Б</td>\n",
       "    </tr>\n",
       "    <tr>\n",
       "      <th>2</th>\n",
       "      <td>Белгородская область</td>\n",
       "      <td>г.Алексеевка</td>\n",
       "      <td>переулок 1-й К. Маркса</td>\n",
       "      <td>2</td>\n",
       "    </tr>\n",
       "    <tr>\n",
       "      <th>10</th>\n",
       "      <td>Белгородская область</td>\n",
       "      <td>г.Алексеевка</td>\n",
       "      <td>улица Комсомольская</td>\n",
       "      <td>46А</td>\n",
       "    </tr>\n",
       "    <tr>\n",
       "      <th>13</th>\n",
       "      <td>Белгородская область</td>\n",
       "      <td>с.Жуково</td>\n",
       "      <td>улица Центральная</td>\n",
       "      <td>66</td>\n",
       "    </tr>\n",
       "  </tbody>\n",
       "</table>\n",
       "</div>"
      ],
      "text/plain": [
       "              Unnamed: 8    Unnamed: 9             Unnamed: 10  Unnamed: 11\n",
       "0   Белгородская область    г.Белгород  улица Князя Трубецкого           24\n",
       "1   Белгородская область    г.Белгород         улица Некрасова  5/8, корп.Б\n",
       "2   Белгородская область  г.Алексеевка  переулок 1-й К. Маркса            2\n",
       "10  Белгородская область  г.Алексеевка     улица Комсомольская          46А\n",
       "13  Белгородская область      с.Жуково       улица Центральная           66"
      ]
     },
     "execution_count": 310,
     "metadata": {},
     "output_type": "execute_result"
    }
   ],
   "source": [
    "sber.head()"
   ]
  },
  {
   "cell_type": "code",
   "execution_count": 311,
   "metadata": {},
   "outputs": [],
   "source": [
    "sber['Unnamed: 9'] = sber['Unnamed: 9'].apply(lambda x: x.encode('utf-8'))\n",
    "sber['Unnamed: 10'] = sber['Unnamed: 10'].apply(lambda x: x.encode('utf-8'))\n",
    "sber['Unnamed: 11'] = sber['Unnamed: 11'].apply(lambda x: x.encode('utf-8'))"
   ]
  },
  {
   "cell_type": "code",
   "execution_count": 312,
   "metadata": {},
   "outputs": [
    {
     "data": {
      "text/html": [
       "<div>\n",
       "<style scoped>\n",
       "    .dataframe tbody tr th:only-of-type {\n",
       "        vertical-align: middle;\n",
       "    }\n",
       "\n",
       "    .dataframe tbody tr th {\n",
       "        vertical-align: top;\n",
       "    }\n",
       "\n",
       "    .dataframe thead th {\n",
       "        text-align: right;\n",
       "    }\n",
       "</style>\n",
       "<table border=\"1\" class=\"dataframe\">\n",
       "  <thead>\n",
       "    <tr style=\"text-align: right;\">\n",
       "      <th></th>\n",
       "      <th>Unnamed: 8</th>\n",
       "      <th>Unnamed: 9</th>\n",
       "      <th>Unnamed: 10</th>\n",
       "      <th>Unnamed: 11</th>\n",
       "    </tr>\n",
       "  </thead>\n",
       "  <tbody>\n",
       "    <tr>\n",
       "      <th>0</th>\n",
       "      <td>Белгородская область</td>\n",
       "      <td>г.Белгород</td>\n",
       "      <td>улица Князя Трубецкого</td>\n",
       "      <td>24</td>\n",
       "    </tr>\n",
       "    <tr>\n",
       "      <th>1</th>\n",
       "      <td>Белгородская область</td>\n",
       "      <td>г.Белгород</td>\n",
       "      <td>улица Некрасова</td>\n",
       "      <td>5/8, корп.Б</td>\n",
       "    </tr>\n",
       "    <tr>\n",
       "      <th>2</th>\n",
       "      <td>Белгородская область</td>\n",
       "      <td>г.Алексеевка</td>\n",
       "      <td>переулок 1-й К. Маркса</td>\n",
       "      <td>2</td>\n",
       "    </tr>\n",
       "    <tr>\n",
       "      <th>10</th>\n",
       "      <td>Белгородская область</td>\n",
       "      <td>г.Алексеевка</td>\n",
       "      <td>улица Комсомольская</td>\n",
       "      <td>46А</td>\n",
       "    </tr>\n",
       "    <tr>\n",
       "      <th>13</th>\n",
       "      <td>Белгородская область</td>\n",
       "      <td>с.Жуково</td>\n",
       "      <td>улица Центральная</td>\n",
       "      <td>66</td>\n",
       "    </tr>\n",
       "  </tbody>\n",
       "</table>\n",
       "</div>"
      ],
      "text/plain": [
       "              Unnamed: 8    Unnamed: 9             Unnamed: 10  Unnamed: 11\n",
       "0   Белгородская область    г.Белгород  улица Князя Трубецкого           24\n",
       "1   Белгородская область    г.Белгород         улица Некрасова  5/8, корп.Б\n",
       "2   Белгородская область  г.Алексеевка  переулок 1-й К. Маркса            2\n",
       "10  Белгородская область  г.Алексеевка     улица Комсомольская          46А\n",
       "13  Белгородская область      с.Жуково       улица Центральная           66"
      ]
     },
     "execution_count": 312,
     "metadata": {},
     "output_type": "execute_result"
    }
   ],
   "source": [
    "sber.head()"
   ]
  },
  {
   "cell_type": "code",
   "execution_count": 286,
   "metadata": {},
   "outputs": [],
   "source": [
    "#sber['Unnamed: 9'][13].startswith('с')"
   ]
  },
  {
   "cell_type": "code",
   "execution_count": 287,
   "metadata": {},
   "outputs": [],
   "source": [
    "#sber['Unnamed: 9'].apply(lambda x: x.startswith('с',''))"
   ]
  },
  {
   "cell_type": "code",
   "execution_count": 288,
   "metadata": {},
   "outputs": [
    {
     "data": {
      "text/plain": [
       "False"
      ]
     },
     "execution_count": 288,
     "metadata": {},
     "output_type": "execute_result"
    }
   ],
   "source": [
    "a.startswith('c')"
   ]
  },
  {
   "cell_type": "code",
   "execution_count": 313,
   "metadata": {},
   "outputs": [],
   "source": [
    "def delete_c(address):\n",
    "    if address.startswith('г'):\n",
    "        return address\n",
    "    else:\n",
    "        return 'село'\n",
    "    \n",
    "sber['Unnamed: 9']  = sber['Unnamed: 9'].apply(lambda x: delete_c(x))"
   ]
  },
  {
   "cell_type": "code",
   "execution_count": 314,
   "metadata": {},
   "outputs": [],
   "source": [
    "sber = sber[sber['Unnamed: 9'] != 'село']"
   ]
  },
  {
   "cell_type": "code",
   "execution_count": 319,
   "metadata": {},
   "outputs": [
    {
     "data": {
      "text/html": [
       "<div>\n",
       "<style scoped>\n",
       "    .dataframe tbody tr th:only-of-type {\n",
       "        vertical-align: middle;\n",
       "    }\n",
       "\n",
       "    .dataframe tbody tr th {\n",
       "        vertical-align: top;\n",
       "    }\n",
       "\n",
       "    .dataframe thead th {\n",
       "        text-align: right;\n",
       "    }\n",
       "</style>\n",
       "<table border=\"1\" class=\"dataframe\">\n",
       "  <thead>\n",
       "    <tr style=\"text-align: right;\">\n",
       "      <th></th>\n",
       "      <th>Unnamed: 8</th>\n",
       "      <th>Unnamed: 9</th>\n",
       "      <th>Unnamed: 10</th>\n",
       "      <th>Unnamed: 11</th>\n",
       "      <th>address</th>\n",
       "    </tr>\n",
       "  </thead>\n",
       "  <tbody>\n",
       "    <tr>\n",
       "      <th>0</th>\n",
       "      <td>Белгородская область</td>\n",
       "      <td>г.Белгород</td>\n",
       "      <td>улица Князя Трубецкого</td>\n",
       "      <td>24</td>\n",
       "      <td>г.Белгород улица Князя Трубецкого 24</td>\n",
       "    </tr>\n",
       "    <tr>\n",
       "      <th>1</th>\n",
       "      <td>Белгородская область</td>\n",
       "      <td>г.Белгород</td>\n",
       "      <td>улица Некрасова</td>\n",
       "      <td>5/8, корп.Б</td>\n",
       "      <td>г.Белгород улица Некрасова 5/8, корп.Б</td>\n",
       "    </tr>\n",
       "    <tr>\n",
       "      <th>2</th>\n",
       "      <td>Белгородская область</td>\n",
       "      <td>г.Алексеевка</td>\n",
       "      <td>переулок 1-й К. Маркса</td>\n",
       "      <td>2</td>\n",
       "      <td>г.Алексеевка переулок 1-й К. Маркса 2</td>\n",
       "    </tr>\n",
       "    <tr>\n",
       "      <th>10</th>\n",
       "      <td>Белгородская область</td>\n",
       "      <td>г.Алексеевка</td>\n",
       "      <td>улица Комсомольская</td>\n",
       "      <td>46А</td>\n",
       "      <td>г.Алексеевка улица Комсомольская 46А</td>\n",
       "    </tr>\n",
       "    <tr>\n",
       "      <th>17</th>\n",
       "      <td>Белгородская область</td>\n",
       "      <td>г.Белгород</td>\n",
       "      <td>улица Железнякова</td>\n",
       "      <td>18-А</td>\n",
       "      <td>г.Белгород улица Железнякова 18-А</td>\n",
       "    </tr>\n",
       "    <tr>\n",
       "      <th>24</th>\n",
       "      <td>Белгородская область</td>\n",
       "      <td>г.Бирюч</td>\n",
       "      <td>улица Карла Маркса</td>\n",
       "      <td>4</td>\n",
       "      <td>г.Бирюч улица Карла Маркса 4</td>\n",
       "    </tr>\n",
       "    <tr>\n",
       "      <th>35</th>\n",
       "      <td>Белгородская область</td>\n",
       "      <td>г.Белгород</td>\n",
       "      <td>проспект Б.Хмельницкого</td>\n",
       "      <td>160</td>\n",
       "      <td>г.Белгород проспект Б.Хмельницкого 160</td>\n",
       "    </tr>\n",
       "    <tr>\n",
       "      <th>37</th>\n",
       "      <td>Белгородская область</td>\n",
       "      <td>г.Алексеевка</td>\n",
       "      <td>улица Ст. Разина</td>\n",
       "      <td>56</td>\n",
       "      <td>г.Алексеевка улица Ст. Разина 56</td>\n",
       "    </tr>\n",
       "    <tr>\n",
       "      <th>39</th>\n",
       "      <td>Белгородская область</td>\n",
       "      <td>г.Белгород</td>\n",
       "      <td>улица Генерала Апанасенко</td>\n",
       "      <td>97</td>\n",
       "      <td>г.Белгород улица Генерала Апанасенко 97</td>\n",
       "    </tr>\n",
       "    <tr>\n",
       "      <th>40</th>\n",
       "      <td>Белгородская область</td>\n",
       "      <td>г.Белгород</td>\n",
       "      <td>улица Буденого</td>\n",
       "      <td>2-А</td>\n",
       "      <td>г.Белгород улица Буденого 2-А</td>\n",
       "    </tr>\n",
       "  </tbody>\n",
       "</table>\n",
       "</div>"
      ],
      "text/plain": [
       "              Unnamed: 8    Unnamed: 9                Unnamed: 10  \\\n",
       "0   Белгородская область    г.Белгород     улица Князя Трубецкого   \n",
       "1   Белгородская область    г.Белгород            улица Некрасова   \n",
       "2   Белгородская область  г.Алексеевка     переулок 1-й К. Маркса   \n",
       "10  Белгородская область  г.Алексеевка        улица Комсомольская   \n",
       "17  Белгородская область    г.Белгород          улица Железнякова   \n",
       "24  Белгородская область       г.Бирюч         улица Карла Маркса   \n",
       "35  Белгородская область    г.Белгород    проспект Б.Хмельницкого   \n",
       "37  Белгородская область  г.Алексеевка           улица Ст. Разина   \n",
       "39  Белгородская область    г.Белгород  улица Генерала Апанасенко   \n",
       "40  Белгородская область    г.Белгород             улица Буденого   \n",
       "\n",
       "    Unnamed: 11                                  address  \n",
       "0            24     г.Белгород улица Князя Трубецкого 24  \n",
       "1   5/8, корп.Б   г.Белгород улица Некрасова 5/8, корп.Б  \n",
       "2             2    г.Алексеевка переулок 1-й К. Маркса 2  \n",
       "10          46А     г.Алексеевка улица Комсомольская 46А  \n",
       "17         18-А        г.Белгород улица Железнякова 18-А  \n",
       "24            4             г.Бирюч улица Карла Маркса 4  \n",
       "35          160   г.Белгород проспект Б.Хмельницкого 160  \n",
       "37           56         г.Алексеевка улица Ст. Разина 56  \n",
       "39           97  г.Белгород улица Генерала Апанасенко 97  \n",
       "40          2-А            г.Белгород улица Буденого 2-А  "
      ]
     },
     "execution_count": 319,
     "metadata": {},
     "output_type": "execute_result"
    }
   ],
   "source": [
    "sber = sber.drop_duplicates()\n",
    "sber.head(10)"
   ]
  },
  {
   "cell_type": "code",
   "execution_count": 316,
   "metadata": {},
   "outputs": [],
   "source": [
    "sber['address'] = sber['Unnamed: 9'] + ' ' + sber['Unnamed: 10'] + ' ' + sber['Unnamed: 11']"
   ]
  },
  {
   "cell_type": "code",
   "execution_count": 321,
   "metadata": {},
   "outputs": [],
   "source": [
    "pd.DataFrame(sber['address']).to_csv('sber_departments.csv')"
   ]
  }
 ],
 "metadata": {
  "kernelspec": {
   "display_name": "Python 2",
   "language": "python",
   "name": "python2"
  },
  "language_info": {
   "codemirror_mode": {
    "name": "ipython",
    "version": 2
   },
   "file_extension": ".py",
   "mimetype": "text/x-python",
   "name": "python",
   "nbconvert_exporter": "python",
   "pygments_lexer": "ipython2",
   "version": "2.7.14"
  }
 },
 "nbformat": 4,
 "nbformat_minor": 2
}
